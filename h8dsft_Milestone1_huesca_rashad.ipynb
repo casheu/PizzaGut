{
 "cells": [
  {
   "cell_type": "markdown",
   "metadata": {},
   "source": [
    "**Tableau URL**\n",
    "\n",
    "https://public.tableau.com/views/PizzaSales_16668341874610/StatisticalAnalysis?:language=en-US&publish=yes&:display_count=n&:origin=viz_share_link"
   ]
  },
  {
   "cell_type": "markdown",
   "metadata": {},
   "source": [
    "# Milestone 1\n",
    "\n",
    "### `Huesca Rashad FTDS_016`"
   ]
  },
  {
   "cell_type": "markdown",
   "metadata": {},
   "source": [
    "## Description"
   ]
  },
  {
   "cell_type": "markdown",
   "metadata": {},
   "source": [
    "### Background"
   ]
  },
  {
   "cell_type": "markdown",
   "metadata": {},
   "source": [
    "The management from PizzaGut was concerned about a recent report that stated that our close competitor earned a raise in revenue by 5% this year with GMV of 700.000 USD while on the other hand our sales seems to be on a downward trend this year. The management wanted some action to be taken to raise our revenues by 3% starting from next quarter, we need to determine how to achieve it for next quarter and beyond based on this year sales performance."
   ]
  },
  {
   "cell_type": "markdown",
   "metadata": {
    "id": "QjBIYcWJXFYJ"
   },
   "source": [
    "### SMART Success Criteria"
   ]
  },
  {
   "cell_type": "markdown",
   "metadata": {
    "id": "noJnETOuXKjB"
   },
   "source": [
    "#### Specific"
   ]
  },
  {
   "cell_type": "markdown",
   "metadata": {
    "id": "JtnV4fE2YHUf"
   },
   "source": [
    "● What: What do we want to accomplish?<br>\n",
    "Increase our revenue.<br>\n",
    "\n",
    "● When: When do we want to achieve this goal?<br>\n",
    "Next quarter.<br>\n",
    "\n",
    "● Why: Why do we want to achieve this goal?<br>\n",
    "To ensure that we stay ahead against our competitor."
   ]
  },
  {
   "cell_type": "markdown",
   "metadata": {
    "id": "lGPazGInEqog"
   },
   "source": [
    "#### Measurable"
   ]
  },
  {
   "cell_type": "markdown",
   "metadata": {
    "id": "4I7YWnnRYZ2i"
   },
   "source": [
    "● How much?<br>\n",
    "3% increase of next quarter revenue.\n",
    "\n",
    "● How will I know when it is accomplished?<br>\n",
    "By comparing next quarter revenue with last quarter revenue."
   ]
  },
  {
   "cell_type": "markdown",
   "metadata": {
    "id": "9BsoLYeDE9b1"
   },
   "source": [
    "#### Achievable"
   ]
  },
  {
   "cell_type": "markdown",
   "metadata": {
    "id": "n1XfPhfsYj2K"
   },
   "source": [
    "● How can I accomplish this goal?<br>\n",
    "Determining some action to be taken next year about the best and worst selling pizza types and categories.\n",
    "\n",
    "● Do I have the resources and capabilities to achieve the goal? If not, what am I missing?<br>\n",
    "The goal could be eased by RnD by doing some innovation in pizza types or categories.\n",
    "\n",
    "● Have others done it successfully before?<br>\n",
    "Yes, we have done 3% increase in revenue in the past before."
   ]
  },
  {
   "cell_type": "markdown",
   "metadata": {
    "id": "4jz5D5EMFEq2"
   },
   "source": [
    "#### Relevant"
   ]
  },
  {
   "cell_type": "markdown",
   "metadata": {
    "id": "CII8kEdTYutE"
   },
   "source": [
    "●Does this seem worthwhile?<br>\n",
    "Of course, the pressure from our competitor is more alive than ever.\n",
    "\n",
    "●Is this the right time?<br>\n",
    "Yes, the sooner we set our goals the sooner we can prepare our strategies for next year."
   ]
  },
  {
   "cell_type": "markdown",
   "metadata": {
    "id": "jZqlJJ3KFLiF"
   },
   "source": [
    "#### Time-bound"
   ]
  },
  {
   "cell_type": "markdown",
   "metadata": {
    "id": "EJthqaa2Y7pu"
   },
   "source": [
    "●When?<br>\n",
    "Next quarter.\n",
    "\n",
    "●What can I do today?<br>\n",
    "Review and analyze our sales performance this year.\n",
    "\n",
    "●What can I do one month from now?<br>\n",
    "Review and analyze our sales performance after we implemented the new strategies.\n"
   ]
  },
  {
   "cell_type": "markdown",
   "metadata": {},
   "source": [
    "### Problem Statement"
   ]
  },
  {
   "cell_type": "markdown",
   "metadata": {},
   "source": [
    "Increase our next quarter revenue by 3% complete with the method to reach the said goal for next quarter and beyond."
   ]
  },
  {
   "cell_type": "markdown",
   "metadata": {},
   "source": [
    "### Problem Description"
   ]
  },
  {
   "cell_type": "markdown",
   "metadata": {},
   "source": [
    "- General<br>\n",
    "How does our monthly revenue perform this year? And what will next quarter looks like in the current projection?\n",
    "\n",
    "- Strength<br>\n",
    "What is our best selling pizza types and how can we maximize the profit from it?<br>\n",
    "What is our best selling month and how can we maximize the profit from it?\n",
    "\n",
    "- Weakness<br>\n",
    "What is our worst selling pizza types and how can we do better sales for it?<br>\n",
    "Would it be better to scratch the worst selling pizza types from the menu?\n",
    "\n",
    "- Opportunity<br>\n",
    "If we want to create a new variant of pizza, what kind of pizza would be the best option?\n",
    "\n",
    "- Threat<br>\n",
    "How well is our daily sales compared against our competitors? "
   ]
  },
  {
   "cell_type": "markdown",
   "metadata": {},
   "source": [
    "## Working Area"
   ]
  },
  {
   "cell_type": "markdown",
   "metadata": {},
   "source": [
    "### Importing Library"
   ]
  },
  {
   "cell_type": "markdown",
   "metadata": {},
   "source": [
    "First we need to import all the library that we will use for this task."
   ]
  },
  {
   "cell_type": "code",
   "execution_count": 87,
   "metadata": {},
   "outputs": [],
   "source": [
    "import pandas as pd\n",
    "import matplotlib.pyplot as plt\n",
    "from scipy import stats\n",
    "import seaborn as sns\n",
    "import numpy as np"
   ]
  },
  {
   "cell_type": "markdown",
   "metadata": {},
   "source": [
    "### Importing Data"
   ]
  },
  {
   "cell_type": "markdown",
   "metadata": {},
   "source": [
    "We are going to use a dataset from Kaggle, which is this data:"
   ]
  },
  {
   "cell_type": "markdown",
   "metadata": {},
   "source": [
    "https://www.kaggle.com/datasets/mysarahmadbhat/pizza-place-sales?select=pizza_types.csv"
   ]
  },
  {
   "cell_type": "markdown",
   "metadata": {},
   "source": [
    "Then, we make a query for the dataset in MySQL Workbench by using this code:"
   ]
  },
  {
   "cell_type": "markdown",
   "metadata": {},
   "source": [
    "```\n",
    "SELECT *\n",
    "FROM orders a\n",
    "JOIN order_details b\n",
    "ON a.order_id = b.order_id\n",
    "INNER JOIN pizzas c\n",
    "ON b.pizza_id = c.pizza_id\n",
    "INNER JOIN pizza_types d\n",
    "ON c.pizza_type_id = d.pizza_type_id\n",
    "ORDER BY order_details_id\n",
    "```"
   ]
  },
  {
   "cell_type": "markdown",
   "metadata": {},
   "source": [
    "And now we will load the data by using .read_csv from our directory."
   ]
  },
  {
   "cell_type": "code",
   "execution_count": 88,
   "metadata": {},
   "outputs": [
    {
     "data": {
      "text/html": [
       "<div>\n",
       "<style scoped>\n",
       "    .dataframe tbody tr th:only-of-type {\n",
       "        vertical-align: middle;\n",
       "    }\n",
       "\n",
       "    .dataframe tbody tr th {\n",
       "        vertical-align: top;\n",
       "    }\n",
       "\n",
       "    .dataframe thead th {\n",
       "        text-align: right;\n",
       "    }\n",
       "</style>\n",
       "<table border=\"1\" class=\"dataframe\">\n",
       "  <thead>\n",
       "    <tr style=\"text-align: right;\">\n",
       "      <th></th>\n",
       "      <th>order_id</th>\n",
       "      <th>date</th>\n",
       "      <th>time</th>\n",
       "      <th>order_details_id</th>\n",
       "      <th>order_id.1</th>\n",
       "      <th>pizza_id</th>\n",
       "      <th>quantity</th>\n",
       "      <th>pizza_id.1</th>\n",
       "      <th>pizza_type_id</th>\n",
       "      <th>size</th>\n",
       "      <th>price</th>\n",
       "      <th>pizza_type_id.1</th>\n",
       "      <th>name</th>\n",
       "      <th>category</th>\n",
       "      <th>ingredients</th>\n",
       "    </tr>\n",
       "  </thead>\n",
       "  <tbody>\n",
       "    <tr>\n",
       "      <th>0</th>\n",
       "      <td>1</td>\n",
       "      <td>2015-01-01</td>\n",
       "      <td>11:38:36</td>\n",
       "      <td>1</td>\n",
       "      <td>1</td>\n",
       "      <td>hawaiian_m</td>\n",
       "      <td>1</td>\n",
       "      <td>hawaiian_m</td>\n",
       "      <td>hawaiian</td>\n",
       "      <td>M</td>\n",
       "      <td>13.25</td>\n",
       "      <td>hawaiian</td>\n",
       "      <td>The Hawaiian Pizza</td>\n",
       "      <td>Classic</td>\n",
       "      <td>Sliced Ham, Pineapple, Mozzarella Cheese</td>\n",
       "    </tr>\n",
       "    <tr>\n",
       "      <th>1</th>\n",
       "      <td>2</td>\n",
       "      <td>2015-01-01</td>\n",
       "      <td>11:57:40</td>\n",
       "      <td>2</td>\n",
       "      <td>2</td>\n",
       "      <td>classic_dlx_m</td>\n",
       "      <td>1</td>\n",
       "      <td>classic_dlx_m</td>\n",
       "      <td>classic_dlx</td>\n",
       "      <td>M</td>\n",
       "      <td>16.00</td>\n",
       "      <td>classic_dlx</td>\n",
       "      <td>The Classic Deluxe Pizza</td>\n",
       "      <td>Classic</td>\n",
       "      <td>Pepperoni, Mushrooms, Red Onions, Red Peppers,...</td>\n",
       "    </tr>\n",
       "    <tr>\n",
       "      <th>2</th>\n",
       "      <td>2</td>\n",
       "      <td>2015-01-01</td>\n",
       "      <td>11:57:40</td>\n",
       "      <td>3</td>\n",
       "      <td>2</td>\n",
       "      <td>five_cheese_l</td>\n",
       "      <td>1</td>\n",
       "      <td>five_cheese_l</td>\n",
       "      <td>five_cheese</td>\n",
       "      <td>L</td>\n",
       "      <td>18.50</td>\n",
       "      <td>five_cheese</td>\n",
       "      <td>The Five Cheese Pizza</td>\n",
       "      <td>Veggie</td>\n",
       "      <td>Mozzarella Cheese, Provolone Cheese, Smoked Go...</td>\n",
       "    </tr>\n",
       "    <tr>\n",
       "      <th>3</th>\n",
       "      <td>2</td>\n",
       "      <td>2015-01-01</td>\n",
       "      <td>11:57:40</td>\n",
       "      <td>4</td>\n",
       "      <td>2</td>\n",
       "      <td>ital_supr_l</td>\n",
       "      <td>1</td>\n",
       "      <td>ital_supr_l</td>\n",
       "      <td>ital_supr</td>\n",
       "      <td>L</td>\n",
       "      <td>20.75</td>\n",
       "      <td>ital_supr</td>\n",
       "      <td>The Italian Supreme Pizza</td>\n",
       "      <td>Supreme</td>\n",
       "      <td>Calabrese Salami, Capocollo, Tomatoes, Red Oni...</td>\n",
       "    </tr>\n",
       "    <tr>\n",
       "      <th>4</th>\n",
       "      <td>2</td>\n",
       "      <td>2015-01-01</td>\n",
       "      <td>11:57:40</td>\n",
       "      <td>5</td>\n",
       "      <td>2</td>\n",
       "      <td>mexicana_m</td>\n",
       "      <td>1</td>\n",
       "      <td>mexicana_m</td>\n",
       "      <td>mexicana</td>\n",
       "      <td>M</td>\n",
       "      <td>16.00</td>\n",
       "      <td>mexicana</td>\n",
       "      <td>The Mexicana Pizza</td>\n",
       "      <td>Veggie</td>\n",
       "      <td>Tomatoes, Red Peppers, Jalapeno Peppers, Red O...</td>\n",
       "    </tr>\n",
       "    <tr>\n",
       "      <th>...</th>\n",
       "      <td>...</td>\n",
       "      <td>...</td>\n",
       "      <td>...</td>\n",
       "      <td>...</td>\n",
       "      <td>...</td>\n",
       "      <td>...</td>\n",
       "      <td>...</td>\n",
       "      <td>...</td>\n",
       "      <td>...</td>\n",
       "      <td>...</td>\n",
       "      <td>...</td>\n",
       "      <td>...</td>\n",
       "      <td>...</td>\n",
       "      <td>...</td>\n",
       "      <td>...</td>\n",
       "    </tr>\n",
       "    <tr>\n",
       "      <th>48615</th>\n",
       "      <td>21348</td>\n",
       "      <td>2015-12-31</td>\n",
       "      <td>21:23:10</td>\n",
       "      <td>48616</td>\n",
       "      <td>21348</td>\n",
       "      <td>ckn_alfredo_m</td>\n",
       "      <td>1</td>\n",
       "      <td>ckn_alfredo_m</td>\n",
       "      <td>ckn_alfredo</td>\n",
       "      <td>M</td>\n",
       "      <td>16.75</td>\n",
       "      <td>ckn_alfredo</td>\n",
       "      <td>The Chicken Alfredo Pizza</td>\n",
       "      <td>Chicken</td>\n",
       "      <td>Chicken, Red Onions, Red Peppers, Mushrooms, A...</td>\n",
       "    </tr>\n",
       "    <tr>\n",
       "      <th>48616</th>\n",
       "      <td>21348</td>\n",
       "      <td>2015-12-31</td>\n",
       "      <td>21:23:10</td>\n",
       "      <td>48617</td>\n",
       "      <td>21348</td>\n",
       "      <td>four_cheese_l</td>\n",
       "      <td>1</td>\n",
       "      <td>four_cheese_l</td>\n",
       "      <td>four_cheese</td>\n",
       "      <td>L</td>\n",
       "      <td>17.95</td>\n",
       "      <td>four_cheese</td>\n",
       "      <td>The Four Cheese Pizza</td>\n",
       "      <td>Veggie</td>\n",
       "      <td>Ricotta Cheese, Gorgonzola Piccante Cheese, Mo...</td>\n",
       "    </tr>\n",
       "    <tr>\n",
       "      <th>48617</th>\n",
       "      <td>21348</td>\n",
       "      <td>2015-12-31</td>\n",
       "      <td>21:23:10</td>\n",
       "      <td>48618</td>\n",
       "      <td>21348</td>\n",
       "      <td>napolitana_s</td>\n",
       "      <td>1</td>\n",
       "      <td>napolitana_s</td>\n",
       "      <td>napolitana</td>\n",
       "      <td>S</td>\n",
       "      <td>12.00</td>\n",
       "      <td>napolitana</td>\n",
       "      <td>The Napolitana Pizza</td>\n",
       "      <td>Classic</td>\n",
       "      <td>Tomatoes, Anchovies, Green Olives, Red Onions,...</td>\n",
       "    </tr>\n",
       "    <tr>\n",
       "      <th>48618</th>\n",
       "      <td>21349</td>\n",
       "      <td>2015-12-31</td>\n",
       "      <td>22:09:54</td>\n",
       "      <td>48619</td>\n",
       "      <td>21349</td>\n",
       "      <td>mexicana_l</td>\n",
       "      <td>1</td>\n",
       "      <td>mexicana_l</td>\n",
       "      <td>mexicana</td>\n",
       "      <td>L</td>\n",
       "      <td>20.25</td>\n",
       "      <td>mexicana</td>\n",
       "      <td>The Mexicana Pizza</td>\n",
       "      <td>Veggie</td>\n",
       "      <td>Tomatoes, Red Peppers, Jalapeno Peppers, Red O...</td>\n",
       "    </tr>\n",
       "    <tr>\n",
       "      <th>48619</th>\n",
       "      <td>21350</td>\n",
       "      <td>2015-12-31</td>\n",
       "      <td>23:02:05</td>\n",
       "      <td>48620</td>\n",
       "      <td>21350</td>\n",
       "      <td>bbq_ckn_s</td>\n",
       "      <td>1</td>\n",
       "      <td>bbq_ckn_s</td>\n",
       "      <td>bbq_ckn</td>\n",
       "      <td>S</td>\n",
       "      <td>12.75</td>\n",
       "      <td>bbq_ckn</td>\n",
       "      <td>The Barbecue Chicken Pizza</td>\n",
       "      <td>Chicken</td>\n",
       "      <td>Barbecued Chicken, Red Peppers, Green Peppers,...</td>\n",
       "    </tr>\n",
       "  </tbody>\n",
       "</table>\n",
       "<p>48620 rows × 15 columns</p>\n",
       "</div>"
      ],
      "text/plain": [
       "       order_id        date      time  order_details_id  order_id.1  \\\n",
       "0             1  2015-01-01  11:38:36                 1           1   \n",
       "1             2  2015-01-01  11:57:40                 2           2   \n",
       "2             2  2015-01-01  11:57:40                 3           2   \n",
       "3             2  2015-01-01  11:57:40                 4           2   \n",
       "4             2  2015-01-01  11:57:40                 5           2   \n",
       "...         ...         ...       ...               ...         ...   \n",
       "48615     21348  2015-12-31  21:23:10             48616       21348   \n",
       "48616     21348  2015-12-31  21:23:10             48617       21348   \n",
       "48617     21348  2015-12-31  21:23:10             48618       21348   \n",
       "48618     21349  2015-12-31  22:09:54             48619       21349   \n",
       "48619     21350  2015-12-31  23:02:05             48620       21350   \n",
       "\n",
       "            pizza_id  quantity     pizza_id.1 pizza_type_id size  price  \\\n",
       "0         hawaiian_m         1     hawaiian_m      hawaiian    M  13.25   \n",
       "1      classic_dlx_m         1  classic_dlx_m   classic_dlx    M  16.00   \n",
       "2      five_cheese_l         1  five_cheese_l   five_cheese    L  18.50   \n",
       "3        ital_supr_l         1    ital_supr_l     ital_supr    L  20.75   \n",
       "4         mexicana_m         1     mexicana_m      mexicana    M  16.00   \n",
       "...              ...       ...            ...           ...  ...    ...   \n",
       "48615  ckn_alfredo_m         1  ckn_alfredo_m   ckn_alfredo    M  16.75   \n",
       "48616  four_cheese_l         1  four_cheese_l   four_cheese    L  17.95   \n",
       "48617   napolitana_s         1   napolitana_s    napolitana    S  12.00   \n",
       "48618     mexicana_l         1     mexicana_l      mexicana    L  20.25   \n",
       "48619      bbq_ckn_s         1      bbq_ckn_s       bbq_ckn    S  12.75   \n",
       "\n",
       "      pizza_type_id.1                        name category  \\\n",
       "0            hawaiian          The Hawaiian Pizza  Classic   \n",
       "1         classic_dlx    The Classic Deluxe Pizza  Classic   \n",
       "2         five_cheese       The Five Cheese Pizza   Veggie   \n",
       "3           ital_supr   The Italian Supreme Pizza  Supreme   \n",
       "4            mexicana          The Mexicana Pizza   Veggie   \n",
       "...               ...                         ...      ...   \n",
       "48615     ckn_alfredo   The Chicken Alfredo Pizza  Chicken   \n",
       "48616     four_cheese       The Four Cheese Pizza   Veggie   \n",
       "48617      napolitana        The Napolitana Pizza  Classic   \n",
       "48618        mexicana          The Mexicana Pizza   Veggie   \n",
       "48619         bbq_ckn  The Barbecue Chicken Pizza  Chicken   \n",
       "\n",
       "                                             ingredients  \n",
       "0               Sliced Ham, Pineapple, Mozzarella Cheese  \n",
       "1      Pepperoni, Mushrooms, Red Onions, Red Peppers,...  \n",
       "2      Mozzarella Cheese, Provolone Cheese, Smoked Go...  \n",
       "3      Calabrese Salami, Capocollo, Tomatoes, Red Oni...  \n",
       "4      Tomatoes, Red Peppers, Jalapeno Peppers, Red O...  \n",
       "...                                                  ...  \n",
       "48615  Chicken, Red Onions, Red Peppers, Mushrooms, A...  \n",
       "48616  Ricotta Cheese, Gorgonzola Piccante Cheese, Mo...  \n",
       "48617  Tomatoes, Anchovies, Green Olives, Red Onions,...  \n",
       "48618  Tomatoes, Red Peppers, Jalapeno Peppers, Red O...  \n",
       "48619  Barbecued Chicken, Red Peppers, Green Peppers,...  \n",
       "\n",
       "[48620 rows x 15 columns]"
      ]
     },
     "execution_count": 88,
     "metadata": {},
     "output_type": "execute_result"
    }
   ],
   "source": [
    "df = pd.read_csv(\"pizzagut.csv\")\n",
    "df"
   ]
  },
  {
   "cell_type": "markdown",
   "metadata": {},
   "source": [
    "Let's take a look at the top and bottom list of our dataset with .head, and .tail."
   ]
  },
  {
   "cell_type": "code",
   "execution_count": 89,
   "metadata": {},
   "outputs": [
    {
     "data": {
      "text/html": [
       "<div>\n",
       "<style scoped>\n",
       "    .dataframe tbody tr th:only-of-type {\n",
       "        vertical-align: middle;\n",
       "    }\n",
       "\n",
       "    .dataframe tbody tr th {\n",
       "        vertical-align: top;\n",
       "    }\n",
       "\n",
       "    .dataframe thead th {\n",
       "        text-align: right;\n",
       "    }\n",
       "</style>\n",
       "<table border=\"1\" class=\"dataframe\">\n",
       "  <thead>\n",
       "    <tr style=\"text-align: right;\">\n",
       "      <th></th>\n",
       "      <th>order_id</th>\n",
       "      <th>date</th>\n",
       "      <th>time</th>\n",
       "      <th>order_details_id</th>\n",
       "      <th>order_id.1</th>\n",
       "      <th>pizza_id</th>\n",
       "      <th>quantity</th>\n",
       "      <th>pizza_id.1</th>\n",
       "      <th>pizza_type_id</th>\n",
       "      <th>size</th>\n",
       "      <th>price</th>\n",
       "      <th>pizza_type_id.1</th>\n",
       "      <th>name</th>\n",
       "      <th>category</th>\n",
       "      <th>ingredients</th>\n",
       "    </tr>\n",
       "  </thead>\n",
       "  <tbody>\n",
       "    <tr>\n",
       "      <th>0</th>\n",
       "      <td>1</td>\n",
       "      <td>2015-01-01</td>\n",
       "      <td>11:38:36</td>\n",
       "      <td>1</td>\n",
       "      <td>1</td>\n",
       "      <td>hawaiian_m</td>\n",
       "      <td>1</td>\n",
       "      <td>hawaiian_m</td>\n",
       "      <td>hawaiian</td>\n",
       "      <td>M</td>\n",
       "      <td>13.25</td>\n",
       "      <td>hawaiian</td>\n",
       "      <td>The Hawaiian Pizza</td>\n",
       "      <td>Classic</td>\n",
       "      <td>Sliced Ham, Pineapple, Mozzarella Cheese</td>\n",
       "    </tr>\n",
       "    <tr>\n",
       "      <th>1</th>\n",
       "      <td>2</td>\n",
       "      <td>2015-01-01</td>\n",
       "      <td>11:57:40</td>\n",
       "      <td>2</td>\n",
       "      <td>2</td>\n",
       "      <td>classic_dlx_m</td>\n",
       "      <td>1</td>\n",
       "      <td>classic_dlx_m</td>\n",
       "      <td>classic_dlx</td>\n",
       "      <td>M</td>\n",
       "      <td>16.00</td>\n",
       "      <td>classic_dlx</td>\n",
       "      <td>The Classic Deluxe Pizza</td>\n",
       "      <td>Classic</td>\n",
       "      <td>Pepperoni, Mushrooms, Red Onions, Red Peppers,...</td>\n",
       "    </tr>\n",
       "    <tr>\n",
       "      <th>2</th>\n",
       "      <td>2</td>\n",
       "      <td>2015-01-01</td>\n",
       "      <td>11:57:40</td>\n",
       "      <td>3</td>\n",
       "      <td>2</td>\n",
       "      <td>five_cheese_l</td>\n",
       "      <td>1</td>\n",
       "      <td>five_cheese_l</td>\n",
       "      <td>five_cheese</td>\n",
       "      <td>L</td>\n",
       "      <td>18.50</td>\n",
       "      <td>five_cheese</td>\n",
       "      <td>The Five Cheese Pizza</td>\n",
       "      <td>Veggie</td>\n",
       "      <td>Mozzarella Cheese, Provolone Cheese, Smoked Go...</td>\n",
       "    </tr>\n",
       "    <tr>\n",
       "      <th>3</th>\n",
       "      <td>2</td>\n",
       "      <td>2015-01-01</td>\n",
       "      <td>11:57:40</td>\n",
       "      <td>4</td>\n",
       "      <td>2</td>\n",
       "      <td>ital_supr_l</td>\n",
       "      <td>1</td>\n",
       "      <td>ital_supr_l</td>\n",
       "      <td>ital_supr</td>\n",
       "      <td>L</td>\n",
       "      <td>20.75</td>\n",
       "      <td>ital_supr</td>\n",
       "      <td>The Italian Supreme Pizza</td>\n",
       "      <td>Supreme</td>\n",
       "      <td>Calabrese Salami, Capocollo, Tomatoes, Red Oni...</td>\n",
       "    </tr>\n",
       "    <tr>\n",
       "      <th>4</th>\n",
       "      <td>2</td>\n",
       "      <td>2015-01-01</td>\n",
       "      <td>11:57:40</td>\n",
       "      <td>5</td>\n",
       "      <td>2</td>\n",
       "      <td>mexicana_m</td>\n",
       "      <td>1</td>\n",
       "      <td>mexicana_m</td>\n",
       "      <td>mexicana</td>\n",
       "      <td>M</td>\n",
       "      <td>16.00</td>\n",
       "      <td>mexicana</td>\n",
       "      <td>The Mexicana Pizza</td>\n",
       "      <td>Veggie</td>\n",
       "      <td>Tomatoes, Red Peppers, Jalapeno Peppers, Red O...</td>\n",
       "    </tr>\n",
       "  </tbody>\n",
       "</table>\n",
       "</div>"
      ],
      "text/plain": [
       "   order_id        date      time  order_details_id  order_id.1  \\\n",
       "0         1  2015-01-01  11:38:36                 1           1   \n",
       "1         2  2015-01-01  11:57:40                 2           2   \n",
       "2         2  2015-01-01  11:57:40                 3           2   \n",
       "3         2  2015-01-01  11:57:40                 4           2   \n",
       "4         2  2015-01-01  11:57:40                 5           2   \n",
       "\n",
       "        pizza_id  quantity     pizza_id.1 pizza_type_id size  price  \\\n",
       "0     hawaiian_m         1     hawaiian_m      hawaiian    M  13.25   \n",
       "1  classic_dlx_m         1  classic_dlx_m   classic_dlx    M  16.00   \n",
       "2  five_cheese_l         1  five_cheese_l   five_cheese    L  18.50   \n",
       "3    ital_supr_l         1    ital_supr_l     ital_supr    L  20.75   \n",
       "4     mexicana_m         1     mexicana_m      mexicana    M  16.00   \n",
       "\n",
       "  pizza_type_id.1                       name category  \\\n",
       "0        hawaiian         The Hawaiian Pizza  Classic   \n",
       "1     classic_dlx   The Classic Deluxe Pizza  Classic   \n",
       "2     five_cheese      The Five Cheese Pizza   Veggie   \n",
       "3       ital_supr  The Italian Supreme Pizza  Supreme   \n",
       "4        mexicana         The Mexicana Pizza   Veggie   \n",
       "\n",
       "                                         ingredients  \n",
       "0           Sliced Ham, Pineapple, Mozzarella Cheese  \n",
       "1  Pepperoni, Mushrooms, Red Onions, Red Peppers,...  \n",
       "2  Mozzarella Cheese, Provolone Cheese, Smoked Go...  \n",
       "3  Calabrese Salami, Capocollo, Tomatoes, Red Oni...  \n",
       "4  Tomatoes, Red Peppers, Jalapeno Peppers, Red O...  "
      ]
     },
     "execution_count": 89,
     "metadata": {},
     "output_type": "execute_result"
    }
   ],
   "source": [
    "df.head()"
   ]
  },
  {
   "cell_type": "code",
   "execution_count": 90,
   "metadata": {},
   "outputs": [
    {
     "data": {
      "text/html": [
       "<div>\n",
       "<style scoped>\n",
       "    .dataframe tbody tr th:only-of-type {\n",
       "        vertical-align: middle;\n",
       "    }\n",
       "\n",
       "    .dataframe tbody tr th {\n",
       "        vertical-align: top;\n",
       "    }\n",
       "\n",
       "    .dataframe thead th {\n",
       "        text-align: right;\n",
       "    }\n",
       "</style>\n",
       "<table border=\"1\" class=\"dataframe\">\n",
       "  <thead>\n",
       "    <tr style=\"text-align: right;\">\n",
       "      <th></th>\n",
       "      <th>order_id</th>\n",
       "      <th>date</th>\n",
       "      <th>time</th>\n",
       "      <th>order_details_id</th>\n",
       "      <th>order_id.1</th>\n",
       "      <th>pizza_id</th>\n",
       "      <th>quantity</th>\n",
       "      <th>pizza_id.1</th>\n",
       "      <th>pizza_type_id</th>\n",
       "      <th>size</th>\n",
       "      <th>price</th>\n",
       "      <th>pizza_type_id.1</th>\n",
       "      <th>name</th>\n",
       "      <th>category</th>\n",
       "      <th>ingredients</th>\n",
       "    </tr>\n",
       "  </thead>\n",
       "  <tbody>\n",
       "    <tr>\n",
       "      <th>48615</th>\n",
       "      <td>21348</td>\n",
       "      <td>2015-12-31</td>\n",
       "      <td>21:23:10</td>\n",
       "      <td>48616</td>\n",
       "      <td>21348</td>\n",
       "      <td>ckn_alfredo_m</td>\n",
       "      <td>1</td>\n",
       "      <td>ckn_alfredo_m</td>\n",
       "      <td>ckn_alfredo</td>\n",
       "      <td>M</td>\n",
       "      <td>16.75</td>\n",
       "      <td>ckn_alfredo</td>\n",
       "      <td>The Chicken Alfredo Pizza</td>\n",
       "      <td>Chicken</td>\n",
       "      <td>Chicken, Red Onions, Red Peppers, Mushrooms, A...</td>\n",
       "    </tr>\n",
       "    <tr>\n",
       "      <th>48616</th>\n",
       "      <td>21348</td>\n",
       "      <td>2015-12-31</td>\n",
       "      <td>21:23:10</td>\n",
       "      <td>48617</td>\n",
       "      <td>21348</td>\n",
       "      <td>four_cheese_l</td>\n",
       "      <td>1</td>\n",
       "      <td>four_cheese_l</td>\n",
       "      <td>four_cheese</td>\n",
       "      <td>L</td>\n",
       "      <td>17.95</td>\n",
       "      <td>four_cheese</td>\n",
       "      <td>The Four Cheese Pizza</td>\n",
       "      <td>Veggie</td>\n",
       "      <td>Ricotta Cheese, Gorgonzola Piccante Cheese, Mo...</td>\n",
       "    </tr>\n",
       "    <tr>\n",
       "      <th>48617</th>\n",
       "      <td>21348</td>\n",
       "      <td>2015-12-31</td>\n",
       "      <td>21:23:10</td>\n",
       "      <td>48618</td>\n",
       "      <td>21348</td>\n",
       "      <td>napolitana_s</td>\n",
       "      <td>1</td>\n",
       "      <td>napolitana_s</td>\n",
       "      <td>napolitana</td>\n",
       "      <td>S</td>\n",
       "      <td>12.00</td>\n",
       "      <td>napolitana</td>\n",
       "      <td>The Napolitana Pizza</td>\n",
       "      <td>Classic</td>\n",
       "      <td>Tomatoes, Anchovies, Green Olives, Red Onions,...</td>\n",
       "    </tr>\n",
       "    <tr>\n",
       "      <th>48618</th>\n",
       "      <td>21349</td>\n",
       "      <td>2015-12-31</td>\n",
       "      <td>22:09:54</td>\n",
       "      <td>48619</td>\n",
       "      <td>21349</td>\n",
       "      <td>mexicana_l</td>\n",
       "      <td>1</td>\n",
       "      <td>mexicana_l</td>\n",
       "      <td>mexicana</td>\n",
       "      <td>L</td>\n",
       "      <td>20.25</td>\n",
       "      <td>mexicana</td>\n",
       "      <td>The Mexicana Pizza</td>\n",
       "      <td>Veggie</td>\n",
       "      <td>Tomatoes, Red Peppers, Jalapeno Peppers, Red O...</td>\n",
       "    </tr>\n",
       "    <tr>\n",
       "      <th>48619</th>\n",
       "      <td>21350</td>\n",
       "      <td>2015-12-31</td>\n",
       "      <td>23:02:05</td>\n",
       "      <td>48620</td>\n",
       "      <td>21350</td>\n",
       "      <td>bbq_ckn_s</td>\n",
       "      <td>1</td>\n",
       "      <td>bbq_ckn_s</td>\n",
       "      <td>bbq_ckn</td>\n",
       "      <td>S</td>\n",
       "      <td>12.75</td>\n",
       "      <td>bbq_ckn</td>\n",
       "      <td>The Barbecue Chicken Pizza</td>\n",
       "      <td>Chicken</td>\n",
       "      <td>Barbecued Chicken, Red Peppers, Green Peppers,...</td>\n",
       "    </tr>\n",
       "  </tbody>\n",
       "</table>\n",
       "</div>"
      ],
      "text/plain": [
       "       order_id        date      time  order_details_id  order_id.1  \\\n",
       "48615     21348  2015-12-31  21:23:10             48616       21348   \n",
       "48616     21348  2015-12-31  21:23:10             48617       21348   \n",
       "48617     21348  2015-12-31  21:23:10             48618       21348   \n",
       "48618     21349  2015-12-31  22:09:54             48619       21349   \n",
       "48619     21350  2015-12-31  23:02:05             48620       21350   \n",
       "\n",
       "            pizza_id  quantity     pizza_id.1 pizza_type_id size  price  \\\n",
       "48615  ckn_alfredo_m         1  ckn_alfredo_m   ckn_alfredo    M  16.75   \n",
       "48616  four_cheese_l         1  four_cheese_l   four_cheese    L  17.95   \n",
       "48617   napolitana_s         1   napolitana_s    napolitana    S  12.00   \n",
       "48618     mexicana_l         1     mexicana_l      mexicana    L  20.25   \n",
       "48619      bbq_ckn_s         1      bbq_ckn_s       bbq_ckn    S  12.75   \n",
       "\n",
       "      pizza_type_id.1                        name category  \\\n",
       "48615     ckn_alfredo   The Chicken Alfredo Pizza  Chicken   \n",
       "48616     four_cheese       The Four Cheese Pizza   Veggie   \n",
       "48617      napolitana        The Napolitana Pizza  Classic   \n",
       "48618        mexicana          The Mexicana Pizza   Veggie   \n",
       "48619         bbq_ckn  The Barbecue Chicken Pizza  Chicken   \n",
       "\n",
       "                                             ingredients  \n",
       "48615  Chicken, Red Onions, Red Peppers, Mushrooms, A...  \n",
       "48616  Ricotta Cheese, Gorgonzola Piccante Cheese, Mo...  \n",
       "48617  Tomatoes, Anchovies, Green Olives, Red Onions,...  \n",
       "48618  Tomatoes, Red Peppers, Jalapeno Peppers, Red O...  \n",
       "48619  Barbecued Chicken, Red Peppers, Green Peppers,...  "
      ]
     },
     "execution_count": 90,
     "metadata": {},
     "output_type": "execute_result"
    }
   ],
   "source": [
    "df.tail()"
   ]
  },
  {
   "cell_type": "markdown",
   "metadata": {},
   "source": [
    "### Data Cleaning\n"
   ]
  },
  {
   "cell_type": "markdown",
   "metadata": {},
   "source": [
    "Before we analyze our data, we need to make sure that the data is ready, first we need to see if there's null valued data in our dataset."
   ]
  },
  {
   "cell_type": "code",
   "execution_count": 91,
   "metadata": {},
   "outputs": [
    {
     "name": "stdout",
     "output_type": "stream",
     "text": [
      "<class 'pandas.core.frame.DataFrame'>\n",
      "RangeIndex: 48620 entries, 0 to 48619\n",
      "Data columns (total 15 columns):\n",
      " #   Column            Non-Null Count  Dtype  \n",
      "---  ------            --------------  -----  \n",
      " 0   order_id          48620 non-null  int64  \n",
      " 1   date              48620 non-null  object \n",
      " 2   time              48620 non-null  object \n",
      " 3   order_details_id  48620 non-null  int64  \n",
      " 4   order_id.1        48620 non-null  int64  \n",
      " 5   pizza_id          48620 non-null  object \n",
      " 6   quantity          48620 non-null  int64  \n",
      " 7   pizza_id.1        48620 non-null  object \n",
      " 8   pizza_type_id     48620 non-null  object \n",
      " 9   size              48620 non-null  object \n",
      " 10  price             48620 non-null  float64\n",
      " 11  pizza_type_id.1   48620 non-null  object \n",
      " 12  name              48620 non-null  object \n",
      " 13  category          48620 non-null  object \n",
      " 14  ingredients       48620 non-null  object \n",
      "dtypes: float64(1), int64(4), object(10)\n",
      "memory usage: 5.6+ MB\n"
     ]
    }
   ],
   "source": [
    "df.info()"
   ]
  },
  {
   "cell_type": "markdown",
   "metadata": {},
   "source": [
    "There seems to be no null valued data here, but the datatype for date and time is in object, we need to convert it as datetime with the code below."
   ]
  },
  {
   "cell_type": "code",
   "execution_count": 92,
   "metadata": {},
   "outputs": [
    {
     "name": "stdout",
     "output_type": "stream",
     "text": [
      "<class 'pandas.core.frame.DataFrame'>\n",
      "RangeIndex: 48620 entries, 0 to 48619\n",
      "Data columns (total 15 columns):\n",
      " #   Column            Non-Null Count  Dtype         \n",
      "---  ------            --------------  -----         \n",
      " 0   order_id          48620 non-null  int64         \n",
      " 1   date              48620 non-null  datetime64[ns]\n",
      " 2   time              48620 non-null  object        \n",
      " 3   order_details_id  48620 non-null  int64         \n",
      " 4   order_id.1        48620 non-null  int64         \n",
      " 5   pizza_id          48620 non-null  object        \n",
      " 6   quantity          48620 non-null  int64         \n",
      " 7   pizza_id.1        48620 non-null  object        \n",
      " 8   pizza_type_id     48620 non-null  object        \n",
      " 9   size              48620 non-null  object        \n",
      " 10  price             48620 non-null  float64       \n",
      " 11  pizza_type_id.1   48620 non-null  object        \n",
      " 12  name              48620 non-null  object        \n",
      " 13  category          48620 non-null  object        \n",
      " 14  ingredients       48620 non-null  object        \n",
      "dtypes: datetime64[ns](1), float64(1), int64(4), object(9)\n",
      "memory usage: 5.6+ MB\n"
     ]
    }
   ],
   "source": [
    "df['date']= pd.to_datetime(df['date'])\n",
    "df['time']= pd.to_datetime(df['time'], format='%H:%M:%S').dt.time\n",
    "df.info()"
   ]
  },
  {
   "cell_type": "markdown",
   "metadata": {},
   "source": [
    "Next thing is that we don't need all the column so we will drop some of them. We only need one id, so we will use order_id and drop the rest of them, and we don't need the ingredients column."
   ]
  },
  {
   "cell_type": "code",
   "execution_count": 93,
   "metadata": {},
   "outputs": [
    {
     "data": {
      "text/html": [
       "<div>\n",
       "<style scoped>\n",
       "    .dataframe tbody tr th:only-of-type {\n",
       "        vertical-align: middle;\n",
       "    }\n",
       "\n",
       "    .dataframe tbody tr th {\n",
       "        vertical-align: top;\n",
       "    }\n",
       "\n",
       "    .dataframe thead th {\n",
       "        text-align: right;\n",
       "    }\n",
       "</style>\n",
       "<table border=\"1\" class=\"dataframe\">\n",
       "  <thead>\n",
       "    <tr style=\"text-align: right;\">\n",
       "      <th></th>\n",
       "      <th>date</th>\n",
       "      <th>time</th>\n",
       "      <th>order_details_id</th>\n",
       "      <th>quantity</th>\n",
       "      <th>size</th>\n",
       "      <th>price</th>\n",
       "      <th>name</th>\n",
       "      <th>category</th>\n",
       "    </tr>\n",
       "  </thead>\n",
       "  <tbody>\n",
       "    <tr>\n",
       "      <th>0</th>\n",
       "      <td>2015-01-01</td>\n",
       "      <td>11:38:36</td>\n",
       "      <td>1</td>\n",
       "      <td>1</td>\n",
       "      <td>M</td>\n",
       "      <td>13.25</td>\n",
       "      <td>The Hawaiian Pizza</td>\n",
       "      <td>Classic</td>\n",
       "    </tr>\n",
       "    <tr>\n",
       "      <th>1</th>\n",
       "      <td>2015-01-01</td>\n",
       "      <td>11:57:40</td>\n",
       "      <td>2</td>\n",
       "      <td>1</td>\n",
       "      <td>M</td>\n",
       "      <td>16.00</td>\n",
       "      <td>The Classic Deluxe Pizza</td>\n",
       "      <td>Classic</td>\n",
       "    </tr>\n",
       "    <tr>\n",
       "      <th>2</th>\n",
       "      <td>2015-01-01</td>\n",
       "      <td>11:57:40</td>\n",
       "      <td>3</td>\n",
       "      <td>1</td>\n",
       "      <td>L</td>\n",
       "      <td>18.50</td>\n",
       "      <td>The Five Cheese Pizza</td>\n",
       "      <td>Veggie</td>\n",
       "    </tr>\n",
       "    <tr>\n",
       "      <th>3</th>\n",
       "      <td>2015-01-01</td>\n",
       "      <td>11:57:40</td>\n",
       "      <td>4</td>\n",
       "      <td>1</td>\n",
       "      <td>L</td>\n",
       "      <td>20.75</td>\n",
       "      <td>The Italian Supreme Pizza</td>\n",
       "      <td>Supreme</td>\n",
       "    </tr>\n",
       "    <tr>\n",
       "      <th>4</th>\n",
       "      <td>2015-01-01</td>\n",
       "      <td>11:57:40</td>\n",
       "      <td>5</td>\n",
       "      <td>1</td>\n",
       "      <td>M</td>\n",
       "      <td>16.00</td>\n",
       "      <td>The Mexicana Pizza</td>\n",
       "      <td>Veggie</td>\n",
       "    </tr>\n",
       "    <tr>\n",
       "      <th>...</th>\n",
       "      <td>...</td>\n",
       "      <td>...</td>\n",
       "      <td>...</td>\n",
       "      <td>...</td>\n",
       "      <td>...</td>\n",
       "      <td>...</td>\n",
       "      <td>...</td>\n",
       "      <td>...</td>\n",
       "    </tr>\n",
       "    <tr>\n",
       "      <th>48615</th>\n",
       "      <td>2015-12-31</td>\n",
       "      <td>21:23:10</td>\n",
       "      <td>48616</td>\n",
       "      <td>1</td>\n",
       "      <td>M</td>\n",
       "      <td>16.75</td>\n",
       "      <td>The Chicken Alfredo Pizza</td>\n",
       "      <td>Chicken</td>\n",
       "    </tr>\n",
       "    <tr>\n",
       "      <th>48616</th>\n",
       "      <td>2015-12-31</td>\n",
       "      <td>21:23:10</td>\n",
       "      <td>48617</td>\n",
       "      <td>1</td>\n",
       "      <td>L</td>\n",
       "      <td>17.95</td>\n",
       "      <td>The Four Cheese Pizza</td>\n",
       "      <td>Veggie</td>\n",
       "    </tr>\n",
       "    <tr>\n",
       "      <th>48617</th>\n",
       "      <td>2015-12-31</td>\n",
       "      <td>21:23:10</td>\n",
       "      <td>48618</td>\n",
       "      <td>1</td>\n",
       "      <td>S</td>\n",
       "      <td>12.00</td>\n",
       "      <td>The Napolitana Pizza</td>\n",
       "      <td>Classic</td>\n",
       "    </tr>\n",
       "    <tr>\n",
       "      <th>48618</th>\n",
       "      <td>2015-12-31</td>\n",
       "      <td>22:09:54</td>\n",
       "      <td>48619</td>\n",
       "      <td>1</td>\n",
       "      <td>L</td>\n",
       "      <td>20.25</td>\n",
       "      <td>The Mexicana Pizza</td>\n",
       "      <td>Veggie</td>\n",
       "    </tr>\n",
       "    <tr>\n",
       "      <th>48619</th>\n",
       "      <td>2015-12-31</td>\n",
       "      <td>23:02:05</td>\n",
       "      <td>48620</td>\n",
       "      <td>1</td>\n",
       "      <td>S</td>\n",
       "      <td>12.75</td>\n",
       "      <td>The Barbecue Chicken Pizza</td>\n",
       "      <td>Chicken</td>\n",
       "    </tr>\n",
       "  </tbody>\n",
       "</table>\n",
       "<p>48620 rows × 8 columns</p>\n",
       "</div>"
      ],
      "text/plain": [
       "            date      time  order_details_id  quantity size  price  \\\n",
       "0     2015-01-01  11:38:36                 1         1    M  13.25   \n",
       "1     2015-01-01  11:57:40                 2         1    M  16.00   \n",
       "2     2015-01-01  11:57:40                 3         1    L  18.50   \n",
       "3     2015-01-01  11:57:40                 4         1    L  20.75   \n",
       "4     2015-01-01  11:57:40                 5         1    M  16.00   \n",
       "...          ...       ...               ...       ...  ...    ...   \n",
       "48615 2015-12-31  21:23:10             48616         1    M  16.75   \n",
       "48616 2015-12-31  21:23:10             48617         1    L  17.95   \n",
       "48617 2015-12-31  21:23:10             48618         1    S  12.00   \n",
       "48618 2015-12-31  22:09:54             48619         1    L  20.25   \n",
       "48619 2015-12-31  23:02:05             48620         1    S  12.75   \n",
       "\n",
       "                             name category  \n",
       "0              The Hawaiian Pizza  Classic  \n",
       "1        The Classic Deluxe Pizza  Classic  \n",
       "2           The Five Cheese Pizza   Veggie  \n",
       "3       The Italian Supreme Pizza  Supreme  \n",
       "4              The Mexicana Pizza   Veggie  \n",
       "...                           ...      ...  \n",
       "48615   The Chicken Alfredo Pizza  Chicken  \n",
       "48616       The Four Cheese Pizza   Veggie  \n",
       "48617        The Napolitana Pizza  Classic  \n",
       "48618          The Mexicana Pizza   Veggie  \n",
       "48619  The Barbecue Chicken Pizza  Chicken  \n",
       "\n",
       "[48620 rows x 8 columns]"
      ]
     },
     "execution_count": 93,
     "metadata": {},
     "output_type": "execute_result"
    }
   ],
   "source": [
    "newdf = df.drop(df.columns[[0,4,5,7,8,11,14]],axis=1)\n",
    "newdf"
   ]
  },
  {
   "cell_type": "markdown",
   "metadata": {},
   "source": [
    "### Data Exploration"
   ]
  },
  {
   "cell_type": "markdown",
   "metadata": {},
   "source": [
    "#### Simple Exploration"
   ]
  },
  {
   "cell_type": "markdown",
   "metadata": {},
   "source": [
    "Next, we can do some simple exploration on our dataset. Like the range of date date the data taken."
   ]
  },
  {
   "cell_type": "code",
   "execution_count": 94,
   "metadata": {},
   "outputs": [
    {
     "name": "stdout",
     "output_type": "stream",
     "text": [
      "Data was taken between 2015-01-01 00:00:00 and 2015-12-31 00:00:00\n"
     ]
    }
   ],
   "source": [
    "print(\"Data was taken between\", newdf[\"date\"].min(), \"and\", newdf[\"date\"].max())"
   ]
  },
  {
   "cell_type": "markdown",
   "metadata": {},
   "source": [
    "We could also finds out what types of pizza do we have."
   ]
  },
  {
   "cell_type": "code",
   "execution_count": 95,
   "metadata": {},
   "outputs": [
    {
     "name": "stdout",
     "output_type": "stream",
     "text": [
      "['The Barbecue Chicken Pizza', 'The Big Meat Pizza', 'The Brie Carre Pizza', 'The Calabrese Pizza', 'The California Chicken Pizza', 'The Chicken Alfredo Pizza', 'The Chicken Pesto Pizza', 'The Classic Deluxe Pizza', 'The Five Cheese Pizza', 'The Four Cheese Pizza', 'The Greek Pizza', 'The Green Garden Pizza', 'The Hawaiian Pizza', 'The Italian Capocollo Pizza', 'The Italian Supreme Pizza', 'The Italian Vegetables Pizza', 'The Mediterranean Pizza', 'The Mexicana Pizza', 'The Napolitana Pizza', 'The Pepper Salami Pizza', 'The Pepperoni Pizza', 'The Pepperoni, Mushroom, and Peppers Pizza', 'The Prosciutto and Arugula Pizza', 'The Sicilian Pizza', 'The Soppressata Pizza', 'The Southwest Chicken Pizza', 'The Spicy Italian Pizza', 'The Spinach Pesto Pizza', 'The Spinach Supreme Pizza', 'The Spinach and Feta Pizza', 'The Thai Chicken Pizza', 'The Vegetables + Vegetables Pizza']\n"
     ]
    }
   ],
   "source": [
    "print(sorted(newdf.name.unique()))"
   ]
  },
  {
   "cell_type": "markdown",
   "metadata": {},
   "source": [
    "Now we can begin our analysis process for each problem description."
   ]
  },
  {
   "cell_type": "markdown",
   "metadata": {},
   "source": [
    "#### Description 1"
   ]
  },
  {
   "cell_type": "markdown",
   "metadata": {},
   "source": [
    "- General<br>\n",
    "How much did we increase our monthly revenue this year? And what will next quarter looks like in the current projection?"
   ]
  },
  {
   "cell_type": "markdown",
   "metadata": {},
   "source": [
    "To answer this problem, we need to determine the GMV or Gross Merchandise Value which is the multiplication of the sale price with the number of the item sold for each item. So first we need to create a new column where GMV = price x quantity for each order so we could group it by the types later."
   ]
  },
  {
   "cell_type": "code",
   "execution_count": 96,
   "metadata": {},
   "outputs": [
    {
     "data": {
      "text/html": [
       "<div>\n",
       "<style scoped>\n",
       "    .dataframe tbody tr th:only-of-type {\n",
       "        vertical-align: middle;\n",
       "    }\n",
       "\n",
       "    .dataframe tbody tr th {\n",
       "        vertical-align: top;\n",
       "    }\n",
       "\n",
       "    .dataframe thead th {\n",
       "        text-align: right;\n",
       "    }\n",
       "</style>\n",
       "<table border=\"1\" class=\"dataframe\">\n",
       "  <thead>\n",
       "    <tr style=\"text-align: right;\">\n",
       "      <th></th>\n",
       "      <th>date</th>\n",
       "      <th>time</th>\n",
       "      <th>order_details_id</th>\n",
       "      <th>quantity</th>\n",
       "      <th>size</th>\n",
       "      <th>price</th>\n",
       "      <th>name</th>\n",
       "      <th>category</th>\n",
       "      <th>GMV</th>\n",
       "    </tr>\n",
       "  </thead>\n",
       "  <tbody>\n",
       "    <tr>\n",
       "      <th>0</th>\n",
       "      <td>2015-01-01</td>\n",
       "      <td>11:38:36</td>\n",
       "      <td>1</td>\n",
       "      <td>1</td>\n",
       "      <td>M</td>\n",
       "      <td>13.25</td>\n",
       "      <td>The Hawaiian Pizza</td>\n",
       "      <td>Classic</td>\n",
       "      <td>13.25</td>\n",
       "    </tr>\n",
       "    <tr>\n",
       "      <th>1</th>\n",
       "      <td>2015-01-01</td>\n",
       "      <td>11:57:40</td>\n",
       "      <td>2</td>\n",
       "      <td>1</td>\n",
       "      <td>M</td>\n",
       "      <td>16.00</td>\n",
       "      <td>The Classic Deluxe Pizza</td>\n",
       "      <td>Classic</td>\n",
       "      <td>16.00</td>\n",
       "    </tr>\n",
       "    <tr>\n",
       "      <th>2</th>\n",
       "      <td>2015-01-01</td>\n",
       "      <td>11:57:40</td>\n",
       "      <td>3</td>\n",
       "      <td>1</td>\n",
       "      <td>L</td>\n",
       "      <td>18.50</td>\n",
       "      <td>The Five Cheese Pizza</td>\n",
       "      <td>Veggie</td>\n",
       "      <td>18.50</td>\n",
       "    </tr>\n",
       "    <tr>\n",
       "      <th>3</th>\n",
       "      <td>2015-01-01</td>\n",
       "      <td>11:57:40</td>\n",
       "      <td>4</td>\n",
       "      <td>1</td>\n",
       "      <td>L</td>\n",
       "      <td>20.75</td>\n",
       "      <td>The Italian Supreme Pizza</td>\n",
       "      <td>Supreme</td>\n",
       "      <td>20.75</td>\n",
       "    </tr>\n",
       "    <tr>\n",
       "      <th>4</th>\n",
       "      <td>2015-01-01</td>\n",
       "      <td>11:57:40</td>\n",
       "      <td>5</td>\n",
       "      <td>1</td>\n",
       "      <td>M</td>\n",
       "      <td>16.00</td>\n",
       "      <td>The Mexicana Pizza</td>\n",
       "      <td>Veggie</td>\n",
       "      <td>16.00</td>\n",
       "    </tr>\n",
       "    <tr>\n",
       "      <th>...</th>\n",
       "      <td>...</td>\n",
       "      <td>...</td>\n",
       "      <td>...</td>\n",
       "      <td>...</td>\n",
       "      <td>...</td>\n",
       "      <td>...</td>\n",
       "      <td>...</td>\n",
       "      <td>...</td>\n",
       "      <td>...</td>\n",
       "    </tr>\n",
       "    <tr>\n",
       "      <th>48615</th>\n",
       "      <td>2015-12-31</td>\n",
       "      <td>21:23:10</td>\n",
       "      <td>48616</td>\n",
       "      <td>1</td>\n",
       "      <td>M</td>\n",
       "      <td>16.75</td>\n",
       "      <td>The Chicken Alfredo Pizza</td>\n",
       "      <td>Chicken</td>\n",
       "      <td>16.75</td>\n",
       "    </tr>\n",
       "    <tr>\n",
       "      <th>48616</th>\n",
       "      <td>2015-12-31</td>\n",
       "      <td>21:23:10</td>\n",
       "      <td>48617</td>\n",
       "      <td>1</td>\n",
       "      <td>L</td>\n",
       "      <td>17.95</td>\n",
       "      <td>The Four Cheese Pizza</td>\n",
       "      <td>Veggie</td>\n",
       "      <td>17.95</td>\n",
       "    </tr>\n",
       "    <tr>\n",
       "      <th>48617</th>\n",
       "      <td>2015-12-31</td>\n",
       "      <td>21:23:10</td>\n",
       "      <td>48618</td>\n",
       "      <td>1</td>\n",
       "      <td>S</td>\n",
       "      <td>12.00</td>\n",
       "      <td>The Napolitana Pizza</td>\n",
       "      <td>Classic</td>\n",
       "      <td>12.00</td>\n",
       "    </tr>\n",
       "    <tr>\n",
       "      <th>48618</th>\n",
       "      <td>2015-12-31</td>\n",
       "      <td>22:09:54</td>\n",
       "      <td>48619</td>\n",
       "      <td>1</td>\n",
       "      <td>L</td>\n",
       "      <td>20.25</td>\n",
       "      <td>The Mexicana Pizza</td>\n",
       "      <td>Veggie</td>\n",
       "      <td>20.25</td>\n",
       "    </tr>\n",
       "    <tr>\n",
       "      <th>48619</th>\n",
       "      <td>2015-12-31</td>\n",
       "      <td>23:02:05</td>\n",
       "      <td>48620</td>\n",
       "      <td>1</td>\n",
       "      <td>S</td>\n",
       "      <td>12.75</td>\n",
       "      <td>The Barbecue Chicken Pizza</td>\n",
       "      <td>Chicken</td>\n",
       "      <td>12.75</td>\n",
       "    </tr>\n",
       "  </tbody>\n",
       "</table>\n",
       "<p>48620 rows × 9 columns</p>\n",
       "</div>"
      ],
      "text/plain": [
       "            date      time  order_details_id  quantity size  price  \\\n",
       "0     2015-01-01  11:38:36                 1         1    M  13.25   \n",
       "1     2015-01-01  11:57:40                 2         1    M  16.00   \n",
       "2     2015-01-01  11:57:40                 3         1    L  18.50   \n",
       "3     2015-01-01  11:57:40                 4         1    L  20.75   \n",
       "4     2015-01-01  11:57:40                 5         1    M  16.00   \n",
       "...          ...       ...               ...       ...  ...    ...   \n",
       "48615 2015-12-31  21:23:10             48616         1    M  16.75   \n",
       "48616 2015-12-31  21:23:10             48617         1    L  17.95   \n",
       "48617 2015-12-31  21:23:10             48618         1    S  12.00   \n",
       "48618 2015-12-31  22:09:54             48619         1    L  20.25   \n",
       "48619 2015-12-31  23:02:05             48620         1    S  12.75   \n",
       "\n",
       "                             name category    GMV  \n",
       "0              The Hawaiian Pizza  Classic  13.25  \n",
       "1        The Classic Deluxe Pizza  Classic  16.00  \n",
       "2           The Five Cheese Pizza   Veggie  18.50  \n",
       "3       The Italian Supreme Pizza  Supreme  20.75  \n",
       "4              The Mexicana Pizza   Veggie  16.00  \n",
       "...                           ...      ...    ...  \n",
       "48615   The Chicken Alfredo Pizza  Chicken  16.75  \n",
       "48616       The Four Cheese Pizza   Veggie  17.95  \n",
       "48617        The Napolitana Pizza  Classic  12.00  \n",
       "48618          The Mexicana Pizza   Veggie  20.25  \n",
       "48619  The Barbecue Chicken Pizza  Chicken  12.75  \n",
       "\n",
       "[48620 rows x 9 columns]"
      ]
     },
     "execution_count": 96,
     "metadata": {},
     "output_type": "execute_result"
    }
   ],
   "source": [
    "newdf['GMV'] = (newdf.price * newdf.quantity)\n",
    "newdf"
   ]
  },
  {
   "cell_type": "markdown",
   "metadata": {},
   "source": [
    "Now we can group by our GMV to be monthly so we could see our revenue growth each month."
   ]
  },
  {
   "cell_type": "code",
   "execution_count": 97,
   "metadata": {},
   "outputs": [
    {
     "data": {
      "text/html": [
       "<div>\n",
       "<style scoped>\n",
       "    .dataframe tbody tr th:only-of-type {\n",
       "        vertical-align: middle;\n",
       "    }\n",
       "\n",
       "    .dataframe tbody tr th {\n",
       "        vertical-align: top;\n",
       "    }\n",
       "\n",
       "    .dataframe thead th {\n",
       "        text-align: right;\n",
       "    }\n",
       "</style>\n",
       "<table border=\"1\" class=\"dataframe\">\n",
       "  <thead>\n",
       "    <tr style=\"text-align: right;\">\n",
       "      <th></th>\n",
       "      <th>GMV</th>\n",
       "    </tr>\n",
       "    <tr>\n",
       "      <th>date</th>\n",
       "      <th></th>\n",
       "    </tr>\n",
       "  </thead>\n",
       "  <tbody>\n",
       "    <tr>\n",
       "      <th>1</th>\n",
       "      <td>69793.30</td>\n",
       "    </tr>\n",
       "    <tr>\n",
       "      <th>2</th>\n",
       "      <td>65159.60</td>\n",
       "    </tr>\n",
       "    <tr>\n",
       "      <th>3</th>\n",
       "      <td>70397.10</td>\n",
       "    </tr>\n",
       "    <tr>\n",
       "      <th>4</th>\n",
       "      <td>68736.80</td>\n",
       "    </tr>\n",
       "    <tr>\n",
       "      <th>5</th>\n",
       "      <td>71402.75</td>\n",
       "    </tr>\n",
       "    <tr>\n",
       "      <th>6</th>\n",
       "      <td>68230.20</td>\n",
       "    </tr>\n",
       "    <tr>\n",
       "      <th>7</th>\n",
       "      <td>72557.90</td>\n",
       "    </tr>\n",
       "    <tr>\n",
       "      <th>8</th>\n",
       "      <td>68278.25</td>\n",
       "    </tr>\n",
       "    <tr>\n",
       "      <th>9</th>\n",
       "      <td>64180.05</td>\n",
       "    </tr>\n",
       "    <tr>\n",
       "      <th>10</th>\n",
       "      <td>64027.60</td>\n",
       "    </tr>\n",
       "    <tr>\n",
       "      <th>11</th>\n",
       "      <td>70395.35</td>\n",
       "    </tr>\n",
       "    <tr>\n",
       "      <th>12</th>\n",
       "      <td>64701.15</td>\n",
       "    </tr>\n",
       "  </tbody>\n",
       "</table>\n",
       "</div>"
      ],
      "text/plain": [
       "           GMV\n",
       "date          \n",
       "1     69793.30\n",
       "2     65159.60\n",
       "3     70397.10\n",
       "4     68736.80\n",
       "5     71402.75\n",
       "6     68230.20\n",
       "7     72557.90\n",
       "8     68278.25\n",
       "9     64180.05\n",
       "10    64027.60\n",
       "11    70395.35\n",
       "12    64701.15"
      ]
     },
     "execution_count": 97,
     "metadata": {},
     "output_type": "execute_result"
    }
   ],
   "source": [
    "monthly = newdf.groupby(newdf.date.dt.month)['GMV'].sum()\n",
    "monthly = monthly.to_frame()\n",
    "monthly"
   ]
  },
  {
   "cell_type": "markdown",
   "metadata": {},
   "source": [
    "Next, we will find out how much gain or loss for each of the following months."
   ]
  },
  {
   "cell_type": "code",
   "execution_count": 98,
   "metadata": {},
   "outputs": [
    {
     "data": {
      "text/html": [
       "<div>\n",
       "<style scoped>\n",
       "    .dataframe tbody tr th:only-of-type {\n",
       "        vertical-align: middle;\n",
       "    }\n",
       "\n",
       "    .dataframe tbody tr th {\n",
       "        vertical-align: top;\n",
       "    }\n",
       "\n",
       "    .dataframe thead th {\n",
       "        text-align: right;\n",
       "    }\n",
       "</style>\n",
       "<table border=\"1\" class=\"dataframe\">\n",
       "  <thead>\n",
       "    <tr style=\"text-align: right;\">\n",
       "      <th></th>\n",
       "      <th>GMV</th>\n",
       "      <th>differences</th>\n",
       "      <th>percentage</th>\n",
       "    </tr>\n",
       "    <tr>\n",
       "      <th>date</th>\n",
       "      <th></th>\n",
       "      <th></th>\n",
       "      <th></th>\n",
       "    </tr>\n",
       "  </thead>\n",
       "  <tbody>\n",
       "    <tr>\n",
       "      <th>1</th>\n",
       "      <td>69793.30</td>\n",
       "      <td>NaN</td>\n",
       "      <td>NaN</td>\n",
       "    </tr>\n",
       "    <tr>\n",
       "      <th>2</th>\n",
       "      <td>65159.60</td>\n",
       "      <td>-4633.70</td>\n",
       "      <td>-6.639</td>\n",
       "    </tr>\n",
       "    <tr>\n",
       "      <th>3</th>\n",
       "      <td>70397.10</td>\n",
       "      <td>5237.50</td>\n",
       "      <td>8.038</td>\n",
       "    </tr>\n",
       "    <tr>\n",
       "      <th>4</th>\n",
       "      <td>68736.80</td>\n",
       "      <td>-1660.30</td>\n",
       "      <td>-2.358</td>\n",
       "    </tr>\n",
       "    <tr>\n",
       "      <th>5</th>\n",
       "      <td>71402.75</td>\n",
       "      <td>2665.95</td>\n",
       "      <td>3.878</td>\n",
       "    </tr>\n",
       "    <tr>\n",
       "      <th>6</th>\n",
       "      <td>68230.20</td>\n",
       "      <td>-3172.55</td>\n",
       "      <td>-4.443</td>\n",
       "    </tr>\n",
       "    <tr>\n",
       "      <th>7</th>\n",
       "      <td>72557.90</td>\n",
       "      <td>4327.70</td>\n",
       "      <td>6.343</td>\n",
       "    </tr>\n",
       "    <tr>\n",
       "      <th>8</th>\n",
       "      <td>68278.25</td>\n",
       "      <td>-4279.65</td>\n",
       "      <td>-5.898</td>\n",
       "    </tr>\n",
       "    <tr>\n",
       "      <th>9</th>\n",
       "      <td>64180.05</td>\n",
       "      <td>-4098.20</td>\n",
       "      <td>-6.002</td>\n",
       "    </tr>\n",
       "    <tr>\n",
       "      <th>10</th>\n",
       "      <td>64027.60</td>\n",
       "      <td>-152.45</td>\n",
       "      <td>-0.238</td>\n",
       "    </tr>\n",
       "    <tr>\n",
       "      <th>11</th>\n",
       "      <td>70395.35</td>\n",
       "      <td>6367.75</td>\n",
       "      <td>9.945</td>\n",
       "    </tr>\n",
       "    <tr>\n",
       "      <th>12</th>\n",
       "      <td>64701.15</td>\n",
       "      <td>-5694.20</td>\n",
       "      <td>-8.089</td>\n",
       "    </tr>\n",
       "  </tbody>\n",
       "</table>\n",
       "</div>"
      ],
      "text/plain": [
       "           GMV  differences  percentage\n",
       "date                                   \n",
       "1     69793.30          NaN         NaN\n",
       "2     65159.60     -4633.70      -6.639\n",
       "3     70397.10      5237.50       8.038\n",
       "4     68736.80     -1660.30      -2.358\n",
       "5     71402.75      2665.95       3.878\n",
       "6     68230.20     -3172.55      -4.443\n",
       "7     72557.90      4327.70       6.343\n",
       "8     68278.25     -4279.65      -5.898\n",
       "9     64180.05     -4098.20      -6.002\n",
       "10    64027.60      -152.45      -0.238\n",
       "11    70395.35      6367.75       9.945\n",
       "12    64701.15     -5694.20      -8.089"
      ]
     },
     "execution_count": 98,
     "metadata": {},
     "output_type": "execute_result"
    }
   ],
   "source": [
    "monthly['differences'] = monthly.GMV.diff()\n",
    "monthly['percentage'] = monthly.differences / (monthly.GMV - monthly.differences) *100\n",
    "monthly"
   ]
  },
  {
   "cell_type": "markdown",
   "metadata": {},
   "source": [
    "We can see that there's been a mix of gain and loss of our monthly revenue this year. Let's if if it's trending upward or downward with visualization."
   ]
  },
  {
   "cell_type": "code",
   "execution_count": 99,
   "metadata": {},
   "outputs": [
    {
     "data": {
      "text/plain": [
       "[<matplotlib.lines.Line2D at 0x23d28800f70>]"
      ]
     },
     "execution_count": 99,
     "metadata": {},
     "output_type": "execute_result"
    },
    {
     "data": {
      "image/png": "[encoded data removed]",
      "text/plain": [
       "<Figure size 640x480 with 1 Axes>"
      ]
     },
     "metadata": {},
     "output_type": "display_data"
    }
   ],
   "source": [
    "# Change the dataset to array\n",
    "array = np.array(monthly)\n",
    "x = range(1,13)\n",
    "y = array[:,0]\n",
    "\n",
    "# Calculate the trendline\n",
    "z = np.polyfit(x, y, 1)\n",
    "p = np.poly1d(z)\n",
    "\n",
    "# Plot the data\n",
    "plt.plot(x, y)\n",
    "plt.plot(x, p(x))"
   ]
  },
  {
   "cell_type": "markdown",
   "metadata": {},
   "source": [
    "With the visualization, it is clear that the trend of our sales is going down. How about next year projection based on this trend? First we need to create a moving average for our forecast, we will use 3 months as our moving average."
   ]
  },
  {
   "cell_type": "code",
   "execution_count": 100,
   "metadata": {},
   "outputs": [
    {
     "data": {
      "text/html": [
       "<div>\n",
       "<style scoped>\n",
       "    .dataframe tbody tr th:only-of-type {\n",
       "        vertical-align: middle;\n",
       "    }\n",
       "\n",
       "    .dataframe tbody tr th {\n",
       "        vertical-align: top;\n",
       "    }\n",
       "\n",
       "    .dataframe thead th {\n",
       "        text-align: right;\n",
       "    }\n",
       "</style>\n",
       "<table border=\"1\" class=\"dataframe\">\n",
       "  <thead>\n",
       "    <tr style=\"text-align: right;\">\n",
       "      <th></th>\n",
       "      <th>GMV</th>\n",
       "      <th>differences</th>\n",
       "      <th>percentage</th>\n",
       "      <th>percentage_diff</th>\n",
       "      <th>movingAVG</th>\n",
       "    </tr>\n",
       "    <tr>\n",
       "      <th>date</th>\n",
       "      <th></th>\n",
       "      <th></th>\n",
       "      <th></th>\n",
       "      <th></th>\n",
       "      <th></th>\n",
       "    </tr>\n",
       "  </thead>\n",
       "  <tbody>\n",
       "    <tr>\n",
       "      <th>1</th>\n",
       "      <td>69793.30</td>\n",
       "      <td>NaN</td>\n",
       "      <td>NaN</td>\n",
       "      <td>NaN</td>\n",
       "      <td>NaN</td>\n",
       "    </tr>\n",
       "    <tr>\n",
       "      <th>2</th>\n",
       "      <td>65159.60</td>\n",
       "      <td>-4633.70</td>\n",
       "      <td>-6.639</td>\n",
       "      <td>NaN</td>\n",
       "      <td>NaN</td>\n",
       "    </tr>\n",
       "    <tr>\n",
       "      <th>3</th>\n",
       "      <td>70397.10</td>\n",
       "      <td>5237.50</td>\n",
       "      <td>8.038</td>\n",
       "      <td>14.677</td>\n",
       "      <td>NaN</td>\n",
       "    </tr>\n",
       "    <tr>\n",
       "      <th>4</th>\n",
       "      <td>68736.80</td>\n",
       "      <td>-1660.30</td>\n",
       "      <td>-2.358</td>\n",
       "      <td>-10.396</td>\n",
       "      <td>-0.320</td>\n",
       "    </tr>\n",
       "    <tr>\n",
       "      <th>5</th>\n",
       "      <td>71402.75</td>\n",
       "      <td>2665.95</td>\n",
       "      <td>3.878</td>\n",
       "      <td>6.237</td>\n",
       "      <td>3.186</td>\n",
       "    </tr>\n",
       "    <tr>\n",
       "      <th>6</th>\n",
       "      <td>68230.20</td>\n",
       "      <td>-3172.55</td>\n",
       "      <td>-4.443</td>\n",
       "      <td>-8.322</td>\n",
       "      <td>-0.974</td>\n",
       "    </tr>\n",
       "    <tr>\n",
       "      <th>7</th>\n",
       "      <td>72557.90</td>\n",
       "      <td>4327.70</td>\n",
       "      <td>6.343</td>\n",
       "      <td>10.786</td>\n",
       "      <td>1.926</td>\n",
       "    </tr>\n",
       "    <tr>\n",
       "      <th>8</th>\n",
       "      <td>68278.25</td>\n",
       "      <td>-4279.65</td>\n",
       "      <td>-5.898</td>\n",
       "      <td>-12.241</td>\n",
       "      <td>-1.333</td>\n",
       "    </tr>\n",
       "    <tr>\n",
       "      <th>9</th>\n",
       "      <td>64180.05</td>\n",
       "      <td>-4098.20</td>\n",
       "      <td>-6.002</td>\n",
       "      <td>-0.104</td>\n",
       "      <td>-1.853</td>\n",
       "    </tr>\n",
       "    <tr>\n",
       "      <th>10</th>\n",
       "      <td>64027.60</td>\n",
       "      <td>-152.45</td>\n",
       "      <td>-0.238</td>\n",
       "      <td>5.765</td>\n",
       "      <td>-4.046</td>\n",
       "    </tr>\n",
       "    <tr>\n",
       "      <th>11</th>\n",
       "      <td>70395.35</td>\n",
       "      <td>6367.75</td>\n",
       "      <td>9.945</td>\n",
       "      <td>10.183</td>\n",
       "      <td>1.235</td>\n",
       "    </tr>\n",
       "    <tr>\n",
       "      <th>12</th>\n",
       "      <td>64701.15</td>\n",
       "      <td>-5694.20</td>\n",
       "      <td>-8.089</td>\n",
       "      <td>-18.034</td>\n",
       "      <td>0.540</td>\n",
       "    </tr>\n",
       "  </tbody>\n",
       "</table>\n",
       "</div>"
      ],
      "text/plain": [
       "           GMV  differences  percentage  percentage_diff  movingAVG\n",
       "date                                                               \n",
       "1     69793.30          NaN         NaN              NaN        NaN\n",
       "2     65159.60     -4633.70      -6.639              NaN        NaN\n",
       "3     70397.10      5237.50       8.038           14.677        NaN\n",
       "4     68736.80     -1660.30      -2.358          -10.396     -0.320\n",
       "5     71402.75      2665.95       3.878            6.237      3.186\n",
       "6     68230.20     -3172.55      -4.443           -8.322     -0.974\n",
       "7     72557.90      4327.70       6.343           10.786      1.926\n",
       "8     68278.25     -4279.65      -5.898          -12.241     -1.333\n",
       "9     64180.05     -4098.20      -6.002           -0.104     -1.853\n",
       "10    64027.60      -152.45      -0.238            5.765     -4.046\n",
       "11    70395.35      6367.75       9.945           10.183      1.235\n",
       "12    64701.15     -5694.20      -8.089          -18.034      0.540"
      ]
     },
     "execution_count": 100,
     "metadata": {},
     "output_type": "execute_result"
    }
   ],
   "source": [
    "monthly['percentage_diff'] = monthly.percentage.diff()\n",
    "monthly['movingAVG'] = monthly['percentage'].rolling(3).mean()\n",
    "pd.set_option(\"display.precision\", 3)\n",
    "monthly"
   ]
  },
  {
   "cell_type": "markdown",
   "metadata": {},
   "source": [
    "Now that we got our moving average for this year, we can forecast next quarter GMV using this data."
   ]
  },
  {
   "cell_type": "code",
   "execution_count": 101,
   "metadata": {},
   "outputs": [
    {
     "name": "stderr",
     "output_type": "stream",
     "text": [
      "C:\\Users\\USER\\AppData\\Local\\Temp\\ipykernel_8420\\626386650.py:3: FutureWarning: The default dtype for empty Series will be 'object' instead of 'float64' in a future version. Specify a dtype explicitly to silence this warning.\n",
      "  new_row = pd.Series()\n",
      "C:\\Users\\USER\\AppData\\Local\\Temp\\ipykernel_8420\\626386650.py:3: FutureWarning: The default dtype for empty Series will be 'object' instead of 'float64' in a future version. Specify a dtype explicitly to silence this warning.\n",
      "  new_row = pd.Series()\n",
      "C:\\Users\\USER\\AppData\\Local\\Temp\\ipykernel_8420\\626386650.py:3: FutureWarning: The default dtype for empty Series will be 'object' instead of 'float64' in a future version. Specify a dtype explicitly to silence this warning.\n",
      "  new_row = pd.Series()\n"
     ]
    },
    {
     "data": {
      "text/html": [
       "<div>\n",
       "<style scoped>\n",
       "    .dataframe tbody tr th:only-of-type {\n",
       "        vertical-align: middle;\n",
       "    }\n",
       "\n",
       "    .dataframe tbody tr th {\n",
       "        vertical-align: top;\n",
       "    }\n",
       "\n",
       "    .dataframe thead th {\n",
       "        text-align: right;\n",
       "    }\n",
       "</style>\n",
       "<table border=\"1\" class=\"dataframe\">\n",
       "  <thead>\n",
       "    <tr style=\"text-align: right;\">\n",
       "      <th></th>\n",
       "      <th>GMV</th>\n",
       "      <th>differences</th>\n",
       "      <th>percentage</th>\n",
       "      <th>percentage_diff</th>\n",
       "      <th>movingAVG</th>\n",
       "    </tr>\n",
       "    <tr>\n",
       "      <th>date</th>\n",
       "      <th></th>\n",
       "      <th></th>\n",
       "      <th></th>\n",
       "      <th></th>\n",
       "      <th></th>\n",
       "    </tr>\n",
       "  </thead>\n",
       "  <tbody>\n",
       "    <tr>\n",
       "      <th>1</th>\n",
       "      <td>69793.300</td>\n",
       "      <td>NaN</td>\n",
       "      <td>NaN</td>\n",
       "      <td>NaN</td>\n",
       "      <td>NaN</td>\n",
       "    </tr>\n",
       "    <tr>\n",
       "      <th>2</th>\n",
       "      <td>65159.600</td>\n",
       "      <td>-4633.700</td>\n",
       "      <td>-6.639</td>\n",
       "      <td>NaN</td>\n",
       "      <td>NaN</td>\n",
       "    </tr>\n",
       "    <tr>\n",
       "      <th>3</th>\n",
       "      <td>70397.100</td>\n",
       "      <td>5237.500</td>\n",
       "      <td>8.038</td>\n",
       "      <td>14.677</td>\n",
       "      <td>NaN</td>\n",
       "    </tr>\n",
       "    <tr>\n",
       "      <th>4</th>\n",
       "      <td>68736.800</td>\n",
       "      <td>-1660.300</td>\n",
       "      <td>-2.358</td>\n",
       "      <td>-10.396</td>\n",
       "      <td>-0.320</td>\n",
       "    </tr>\n",
       "    <tr>\n",
       "      <th>5</th>\n",
       "      <td>71402.750</td>\n",
       "      <td>2665.950</td>\n",
       "      <td>3.878</td>\n",
       "      <td>6.237</td>\n",
       "      <td>3.186</td>\n",
       "    </tr>\n",
       "    <tr>\n",
       "      <th>6</th>\n",
       "      <td>68230.200</td>\n",
       "      <td>-3172.550</td>\n",
       "      <td>-4.443</td>\n",
       "      <td>-8.322</td>\n",
       "      <td>-0.974</td>\n",
       "    </tr>\n",
       "    <tr>\n",
       "      <th>7</th>\n",
       "      <td>72557.900</td>\n",
       "      <td>4327.700</td>\n",
       "      <td>6.343</td>\n",
       "      <td>10.786</td>\n",
       "      <td>1.926</td>\n",
       "    </tr>\n",
       "    <tr>\n",
       "      <th>8</th>\n",
       "      <td>68278.250</td>\n",
       "      <td>-4279.650</td>\n",
       "      <td>-5.898</td>\n",
       "      <td>-12.241</td>\n",
       "      <td>-1.333</td>\n",
       "    </tr>\n",
       "    <tr>\n",
       "      <th>9</th>\n",
       "      <td>64180.050</td>\n",
       "      <td>-4098.200</td>\n",
       "      <td>-6.002</td>\n",
       "      <td>-0.104</td>\n",
       "      <td>-1.853</td>\n",
       "    </tr>\n",
       "    <tr>\n",
       "      <th>10</th>\n",
       "      <td>64027.600</td>\n",
       "      <td>-152.450</td>\n",
       "      <td>-0.238</td>\n",
       "      <td>5.765</td>\n",
       "      <td>-4.046</td>\n",
       "    </tr>\n",
       "    <tr>\n",
       "      <th>11</th>\n",
       "      <td>70395.350</td>\n",
       "      <td>6367.750</td>\n",
       "      <td>9.945</td>\n",
       "      <td>10.183</td>\n",
       "      <td>1.235</td>\n",
       "    </tr>\n",
       "    <tr>\n",
       "      <th>12</th>\n",
       "      <td>64701.150</td>\n",
       "      <td>-5694.200</td>\n",
       "      <td>-8.089</td>\n",
       "      <td>-18.034</td>\n",
       "      <td>0.540</td>\n",
       "    </tr>\n",
       "    <tr>\n",
       "      <th>13</th>\n",
       "      <td>65050.299</td>\n",
       "      <td>349.149</td>\n",
       "      <td>0.540</td>\n",
       "      <td>8.629</td>\n",
       "      <td>0.799</td>\n",
       "    </tr>\n",
       "    <tr>\n",
       "      <th>14</th>\n",
       "      <td>65569.848</td>\n",
       "      <td>519.550</td>\n",
       "      <td>0.799</td>\n",
       "      <td>0.259</td>\n",
       "      <td>-2.250</td>\n",
       "    </tr>\n",
       "    <tr>\n",
       "      <th>15</th>\n",
       "      <td>64094.403</td>\n",
       "      <td>-1475.445</td>\n",
       "      <td>-2.250</td>\n",
       "      <td>-3.049</td>\n",
       "      <td>-0.304</td>\n",
       "    </tr>\n",
       "  </tbody>\n",
       "</table>\n",
       "</div>"
      ],
      "text/plain": [
       "            GMV  differences  percentage  percentage_diff  movingAVG\n",
       "date                                                                \n",
       "1     69793.300          NaN         NaN              NaN        NaN\n",
       "2     65159.600    -4633.700      -6.639              NaN        NaN\n",
       "3     70397.100     5237.500       8.038           14.677        NaN\n",
       "4     68736.800    -1660.300      -2.358          -10.396     -0.320\n",
       "5     71402.750     2665.950       3.878            6.237      3.186\n",
       "6     68230.200    -3172.550      -4.443           -8.322     -0.974\n",
       "7     72557.900     4327.700       6.343           10.786      1.926\n",
       "8     68278.250    -4279.650      -5.898          -12.241     -1.333\n",
       "9     64180.050    -4098.200      -6.002           -0.104     -1.853\n",
       "10    64027.600     -152.450      -0.238            5.765     -4.046\n",
       "11    70395.350     6367.750       9.945           10.183      1.235\n",
       "12    64701.150    -5694.200      -8.089          -18.034      0.540\n",
       "13    65050.299      349.149       0.540            8.629      0.799\n",
       "14    65569.848      519.550       0.799            0.259     -2.250\n",
       "15    64094.403    -1475.445      -2.250           -3.049     -0.304"
      ]
     },
     "execution_count": 101,
     "metadata": {},
     "output_type": "execute_result"
    }
   ],
   "source": [
    "# Define loop function to add our new rows\n",
    "def calc_new_val(old_row):\n",
    "    new_row = pd.Series()\n",
    "    new_row['GMV'] = old_row['GMV'] + (old_row['GMV'] * old_row['movingAVG'] / 100)\n",
    "    new_row['differences'] = new_row['GMV'] - old_row['GMV']\n",
    "    new_row['percentage'] = new_row['differences'] / old_row['GMV'] * 100\n",
    "    new_row['percentage_diff'] = new_row['percentage'] - old_row['percentage']\n",
    "    new_row['movingAVG'] = (old_row['percentage'] - old_row['percentage_diff'] + old_row['percentage'] + new_row['percentage']) / 3\n",
    "    return new_row\n",
    "\n",
    "# Call the function for row 13 to 24 which is next year's month\n",
    "for i in range(13, 16):\n",
    "    monthly.loc[i, :] = calc_new_val(monthly.loc[i-1, :])\n",
    "\n",
    "monthly"
   ]
  },
  {
   "cell_type": "markdown",
   "metadata": {},
   "source": [
    "It seems that next quarter sales will also have some mix trend, let's visualize it to have better understanding of the trend."
   ]
  },
  {
   "cell_type": "code",
   "execution_count": 102,
   "metadata": {},
   "outputs": [
    {
     "data": {
      "text/plain": [
       "[<matplotlib.lines.Line2D at 0x23d2b118a00>]"
      ]
     },
     "execution_count": 102,
     "metadata": {},
     "output_type": "execute_result"
    },
    {
     "data": {
      "image/png": "[encoded data removed]",
      "text/plain": [
       "<Figure size 640x480 with 1 Axes>"
      ]
     },
     "metadata": {},
     "output_type": "display_data"
    }
   ],
   "source": [
    "# Change the dataset to array\n",
    "array = np.array(monthly)\n",
    "x = range(0,15)\n",
    "y = array[:,0]\n",
    "\n",
    "# Calculate the trendline\n",
    "z = np.polyfit(x, y, 1)\n",
    "p = np.poly1d(z)\n",
    "\n",
    "# Plot the data\n",
    "plt.plot(x, y)\n",
    "plt.plot(x, p(x))"
   ]
  },
  {
   "cell_type": "markdown",
   "metadata": {},
   "source": [
    "It's clear that the trend for next quarter will still be going down."
   ]
  },
  {
   "cell_type": "markdown",
   "metadata": {},
   "source": [
    "#### Description 2"
   ]
  },
  {
   "cell_type": "markdown",
   "metadata": {},
   "source": [
    "- Strength<br>\n",
    "What is our best selling pizza types and how can we maximize the profit from it?"
   ]
  },
  {
   "cell_type": "markdown",
   "metadata": {},
   "source": [
    "We will determine the best selling pizza based on the number of quantity for each pizza sold with group by the pizzas types."
   ]
  },
  {
   "cell_type": "code",
   "execution_count": 103,
   "metadata": {},
   "outputs": [
    {
     "data": {
      "text/plain": [
       "name\n",
       "The Classic Deluxe Pizza                      2453\n",
       "The Barbecue Chicken Pizza                    2432\n",
       "The Hawaiian Pizza                            2422\n",
       "The Pepperoni Pizza                           2418\n",
       "The Thai Chicken Pizza                        2371\n",
       "The California Chicken Pizza                  2370\n",
       "The Sicilian Pizza                            1938\n",
       "The Spicy Italian Pizza                       1924\n",
       "The Southwest Chicken Pizza                   1917\n",
       "The Big Meat Pizza                            1914\n",
       "The Four Cheese Pizza                         1902\n",
       "The Italian Supreme Pizza                     1884\n",
       "The Vegetables + Vegetables Pizza             1526\n",
       "The Mexicana Pizza                            1484\n",
       "The Napolitana Pizza                          1464\n",
       "The Prosciutto and Arugula Pizza              1457\n",
       "The Spinach and Feta Pizza                    1446\n",
       "The Pepper Salami Pizza                       1446\n",
       "The Italian Capocollo Pizza                   1438\n",
       "The Greek Pizza                               1420\n",
       "The Five Cheese Pizza                         1409\n",
       "The Pepperoni, Mushroom, and Peppers Pizza    1359\n",
       "The Green Garden Pizza                         997\n",
       "The Chicken Alfredo Pizza                      987\n",
       "The Italian Vegetables Pizza                   981\n",
       "The Chicken Pesto Pizza                        973\n",
       "The Spinach Pesto Pizza                        970\n",
       "The Soppressata Pizza                          961\n",
       "The Spinach Supreme Pizza                      950\n",
       "The Calabrese Pizza                            937\n",
       "The Mediterranean Pizza                        934\n",
       "The Brie Carre Pizza                           490\n",
       "Name: quantity, dtype: int64"
      ]
     },
     "execution_count": 103,
     "metadata": {},
     "output_type": "execute_result"
    }
   ],
   "source": [
    "top = newdf.groupby('name')['quantity'].sum()\n",
    "top = top.sort_values(ascending=False)\n",
    "top\n"
   ]
  },
  {
   "cell_type": "markdown",
   "metadata": {},
   "source": [
    "We can see best selling pizza more clearly with head and visualize it."
   ]
  },
  {
   "cell_type": "code",
   "execution_count": 104,
   "metadata": {},
   "outputs": [
    {
     "data": {
      "text/plain": [
       "<AxesSubplot: xlabel='name'>"
      ]
     },
     "execution_count": 104,
     "metadata": {},
     "output_type": "execute_result"
    },
    {
     "data": {
      "image/png": "[encoded data removed]",
      "text/plain": [
       "<Figure size 640x480 with 1 Axes>"
      ]
     },
     "metadata": {},
     "output_type": "display_data"
    }
   ],
   "source": [
    "top10 = top.head(10)\n",
    "top10.plot(kind='bar')"
   ]
  },
  {
   "cell_type": "markdown",
   "metadata": {},
   "source": [
    "From here we can see that the classic deluxe pizza is the best selling pizza and the barbecue chicken pizza, the hawaiian pizza, and the pepperoni pizza is the closest from it. But what do we have to do to maximize our profit from these types of pizza? We could get a big gain in revenue by just improving their price by a little bit, for example:"
   ]
  },
  {
   "cell_type": "code",
   "execution_count": 105,
   "metadata": {},
   "outputs": [
    {
     "name": "stderr",
     "output_type": "stream",
     "text": [
      "C:\\Users\\USER\\AppData\\Local\\Temp\\ipykernel_8420\\963474831.py:2: SettingWithCopyWarning: \n",
      "A value is trying to be set on a copy of a slice from a DataFrame.\n",
      "Try using .loc[row_indexer,col_indexer] = value instead\n",
      "\n",
      "See the caveats in the documentation: https://pandas.pydata.org/pandas-docs/stable/user_guide/indexing.html#returning-a-view-versus-a-copy\n",
      "  newprice['new'] = newprice.price + 0.25\n",
      "C:\\Users\\USER\\AppData\\Local\\Temp\\ipykernel_8420\\963474831.py:3: SettingWithCopyWarning: \n",
      "A value is trying to be set on a copy of a slice from a DataFrame.\n",
      "Try using .loc[row_indexer,col_indexer] = value instead\n",
      "\n",
      "See the caveats in the documentation: https://pandas.pydata.org/pandas-docs/stable/user_guide/indexing.html#returning-a-view-versus-a-copy\n",
      "  newprice['newGMV'] = newprice.quantity * newprice.new\n"
     ]
    },
    {
     "data": {
      "text/html": [
       "<div>\n",
       "<style scoped>\n",
       "    .dataframe tbody tr th:only-of-type {\n",
       "        vertical-align: middle;\n",
       "    }\n",
       "\n",
       "    .dataframe tbody tr th {\n",
       "        vertical-align: top;\n",
       "    }\n",
       "\n",
       "    .dataframe thead th {\n",
       "        text-align: right;\n",
       "    }\n",
       "</style>\n",
       "<table border=\"1\" class=\"dataframe\">\n",
       "  <thead>\n",
       "    <tr style=\"text-align: right;\">\n",
       "      <th></th>\n",
       "      <th>date</th>\n",
       "      <th>time</th>\n",
       "      <th>order_details_id</th>\n",
       "      <th>quantity</th>\n",
       "      <th>size</th>\n",
       "      <th>price</th>\n",
       "      <th>name</th>\n",
       "      <th>category</th>\n",
       "      <th>GMV</th>\n",
       "      <th>new</th>\n",
       "      <th>newGMV</th>\n",
       "    </tr>\n",
       "  </thead>\n",
       "  <tbody>\n",
       "    <tr>\n",
       "      <th>1</th>\n",
       "      <td>2015-01-01</td>\n",
       "      <td>11:57:40</td>\n",
       "      <td>2</td>\n",
       "      <td>1</td>\n",
       "      <td>M</td>\n",
       "      <td>16.0</td>\n",
       "      <td>The Classic Deluxe Pizza</td>\n",
       "      <td>Classic</td>\n",
       "      <td>16.0</td>\n",
       "      <td>16.25</td>\n",
       "      <td>16.25</td>\n",
       "    </tr>\n",
       "    <tr>\n",
       "      <th>14</th>\n",
       "      <td>2015-01-01</td>\n",
       "      <td>12:52:01</td>\n",
       "      <td>15</td>\n",
       "      <td>1</td>\n",
       "      <td>S</td>\n",
       "      <td>12.0</td>\n",
       "      <td>The Classic Deluxe Pizza</td>\n",
       "      <td>Classic</td>\n",
       "      <td>12.0</td>\n",
       "      <td>12.25</td>\n",
       "      <td>12.25</td>\n",
       "    </tr>\n",
       "    <tr>\n",
       "      <th>68</th>\n",
       "      <td>2015-01-01</td>\n",
       "      <td>14:54:26</td>\n",
       "      <td>69</td>\n",
       "      <td>1</td>\n",
       "      <td>S</td>\n",
       "      <td>12.0</td>\n",
       "      <td>The Classic Deluxe Pizza</td>\n",
       "      <td>Classic</td>\n",
       "      <td>12.0</td>\n",
       "      <td>12.25</td>\n",
       "      <td>12.25</td>\n",
       "    </tr>\n",
       "    <tr>\n",
       "      <th>71</th>\n",
       "      <td>2015-01-01</td>\n",
       "      <td>15:11:17</td>\n",
       "      <td>72</td>\n",
       "      <td>1</td>\n",
       "      <td>M</td>\n",
       "      <td>16.0</td>\n",
       "      <td>The Classic Deluxe Pizza</td>\n",
       "      <td>Classic</td>\n",
       "      <td>16.0</td>\n",
       "      <td>16.25</td>\n",
       "      <td>16.25</td>\n",
       "    </tr>\n",
       "    <tr>\n",
       "      <th>90</th>\n",
       "      <td>2015-01-01</td>\n",
       "      <td>16:54:09</td>\n",
       "      <td>91</td>\n",
       "      <td>1</td>\n",
       "      <td>M</td>\n",
       "      <td>16.0</td>\n",
       "      <td>The Classic Deluxe Pizza</td>\n",
       "      <td>Classic</td>\n",
       "      <td>16.0</td>\n",
       "      <td>16.25</td>\n",
       "      <td>16.25</td>\n",
       "    </tr>\n",
       "    <tr>\n",
       "      <th>...</th>\n",
       "      <td>...</td>\n",
       "      <td>...</td>\n",
       "      <td>...</td>\n",
       "      <td>...</td>\n",
       "      <td>...</td>\n",
       "      <td>...</td>\n",
       "      <td>...</td>\n",
       "      <td>...</td>\n",
       "      <td>...</td>\n",
       "      <td>...</td>\n",
       "      <td>...</td>\n",
       "    </tr>\n",
       "    <tr>\n",
       "      <th>48480</th>\n",
       "      <td>2015-12-31</td>\n",
       "      <td>13:34:19</td>\n",
       "      <td>48481</td>\n",
       "      <td>1</td>\n",
       "      <td>S</td>\n",
       "      <td>12.0</td>\n",
       "      <td>The Classic Deluxe Pizza</td>\n",
       "      <td>Classic</td>\n",
       "      <td>12.0</td>\n",
       "      <td>12.25</td>\n",
       "      <td>12.25</td>\n",
       "    </tr>\n",
       "    <tr>\n",
       "      <th>48487</th>\n",
       "      <td>2015-12-31</td>\n",
       "      <td>14:52:25</td>\n",
       "      <td>48488</td>\n",
       "      <td>1</td>\n",
       "      <td>L</td>\n",
       "      <td>20.5</td>\n",
       "      <td>The Classic Deluxe Pizza</td>\n",
       "      <td>Classic</td>\n",
       "      <td>20.5</td>\n",
       "      <td>20.75</td>\n",
       "      <td>20.75</td>\n",
       "    </tr>\n",
       "    <tr>\n",
       "      <th>48508</th>\n",
       "      <td>2015-12-31</td>\n",
       "      <td>16:01:07</td>\n",
       "      <td>48509</td>\n",
       "      <td>1</td>\n",
       "      <td>M</td>\n",
       "      <td>16.0</td>\n",
       "      <td>The Classic Deluxe Pizza</td>\n",
       "      <td>Classic</td>\n",
       "      <td>16.0</td>\n",
       "      <td>16.25</td>\n",
       "      <td>16.25</td>\n",
       "    </tr>\n",
       "    <tr>\n",
       "      <th>48599</th>\n",
       "      <td>2015-12-31</td>\n",
       "      <td>20:27:23</td>\n",
       "      <td>48600</td>\n",
       "      <td>1</td>\n",
       "      <td>M</td>\n",
       "      <td>16.0</td>\n",
       "      <td>The Classic Deluxe Pizza</td>\n",
       "      <td>Classic</td>\n",
       "      <td>16.0</td>\n",
       "      <td>16.25</td>\n",
       "      <td>16.25</td>\n",
       "    </tr>\n",
       "    <tr>\n",
       "      <th>48605</th>\n",
       "      <td>2015-12-31</td>\n",
       "      <td>20:44:43</td>\n",
       "      <td>48606</td>\n",
       "      <td>1</td>\n",
       "      <td>S</td>\n",
       "      <td>12.0</td>\n",
       "      <td>The Classic Deluxe Pizza</td>\n",
       "      <td>Classic</td>\n",
       "      <td>12.0</td>\n",
       "      <td>12.25</td>\n",
       "      <td>12.25</td>\n",
       "    </tr>\n",
       "  </tbody>\n",
       "</table>\n",
       "<p>2416 rows × 11 columns</p>\n",
       "</div>"
      ],
      "text/plain": [
       "            date      time  order_details_id  quantity size  price  \\\n",
       "1     2015-01-01  11:57:40                 2         1    M   16.0   \n",
       "14    2015-01-01  12:52:01                15         1    S   12.0   \n",
       "68    2015-01-01  14:54:26                69         1    S   12.0   \n",
       "71    2015-01-01  15:11:17                72         1    M   16.0   \n",
       "90    2015-01-01  16:54:09                91         1    M   16.0   \n",
       "...          ...       ...               ...       ...  ...    ...   \n",
       "48480 2015-12-31  13:34:19             48481         1    S   12.0   \n",
       "48487 2015-12-31  14:52:25             48488         1    L   20.5   \n",
       "48508 2015-12-31  16:01:07             48509         1    M   16.0   \n",
       "48599 2015-12-31  20:27:23             48600         1    M   16.0   \n",
       "48605 2015-12-31  20:44:43             48606         1    S   12.0   \n",
       "\n",
       "                           name category   GMV    new  newGMV  \n",
       "1      The Classic Deluxe Pizza  Classic  16.0  16.25   16.25  \n",
       "14     The Classic Deluxe Pizza  Classic  12.0  12.25   12.25  \n",
       "68     The Classic Deluxe Pizza  Classic  12.0  12.25   12.25  \n",
       "71     The Classic Deluxe Pizza  Classic  16.0  16.25   16.25  \n",
       "90     The Classic Deluxe Pizza  Classic  16.0  16.25   16.25  \n",
       "...                         ...      ...   ...    ...     ...  \n",
       "48480  The Classic Deluxe Pizza  Classic  12.0  12.25   12.25  \n",
       "48487  The Classic Deluxe Pizza  Classic  20.5  20.75   20.75  \n",
       "48508  The Classic Deluxe Pizza  Classic  16.0  16.25   16.25  \n",
       "48599  The Classic Deluxe Pizza  Classic  16.0  16.25   16.25  \n",
       "48605  The Classic Deluxe Pizza  Classic  12.0  12.25   12.25  \n",
       "\n",
       "[2416 rows x 11 columns]"
      ]
     },
     "execution_count": 105,
     "metadata": {},
     "output_type": "execute_result"
    }
   ],
   "source": [
    "newprice = newdf[newdf['name'] == 'The Classic Deluxe Pizza']\n",
    "newprice['new'] = newprice.price + 0.25\n",
    "newprice['newGMV'] = newprice.quantity * newprice.new\n",
    "newprice"
   ]
  },
  {
   "cell_type": "code",
   "execution_count": 106,
   "metadata": {},
   "outputs": [
    {
     "name": "stdout",
     "output_type": "stream",
     "text": [
      "Our original GMV was 38180.5 USD, and the new GMV is 38793.75 USD which raised by 1.6061864040544258 %\n"
     ]
    }
   ],
   "source": [
    "oldprice = newdf[newdf['name'] == 'The Classic Deluxe Pizza']\n",
    "oldprice = oldprice.GMV.sum()\n",
    "newprice = newprice.newGMV.sum()\n",
    "p = (newprice-oldprice) / oldprice *100\n",
    "print('Our original GMV was', oldprice, 'USD, and the new GMV is', newprice, 'USD which raised by', p, '%')\n"
   ]
  },
  {
   "cell_type": "markdown",
   "metadata": {},
   "source": [
    "#### Description 3"
   ]
  },
  {
   "cell_type": "markdown",
   "metadata": {},
   "source": [
    "- Strength<br>\n",
    "What is our best selling month and how can we maximize the profit from it?"
   ]
  },
  {
   "cell_type": "markdown",
   "metadata": {},
   "source": [
    "We will determine the best selling month based on the number of quantity for each pizza sold with group by month."
   ]
  },
  {
   "cell_type": "code",
   "execution_count": 107,
   "metadata": {},
   "outputs": [
    {
     "data": {
      "text/plain": [
       "date\n",
       "1     4232\n",
       "2     3961\n",
       "3     4261\n",
       "4     4151\n",
       "5     4328\n",
       "6     4107\n",
       "7     4392\n",
       "8     4168\n",
       "9     3890\n",
       "10    3883\n",
       "11    4266\n",
       "12    3935\n",
       "Name: quantity, dtype: int64"
      ]
     },
     "execution_count": 107,
     "metadata": {},
     "output_type": "execute_result"
    }
   ],
   "source": [
    "topmonth = monthly = newdf.groupby(newdf.date.dt.month)['quantity'].sum()\n",
    "topmonth"
   ]
  },
  {
   "cell_type": "markdown",
   "metadata": {},
   "source": [
    "We can see best selling month more clearly with visualization."
   ]
  },
  {
   "cell_type": "code",
   "execution_count": 108,
   "metadata": {},
   "outputs": [
    {
     "data": {
      "text/plain": [
       "<AxesSubplot: xlabel='date'>"
      ]
     },
     "execution_count": 108,
     "metadata": {},
     "output_type": "execute_result"
    },
    {
     "data": {
      "image/png": "[encoded data removed]",
      "text/plain": [
       "<Figure size 640x480 with 1 Axes>"
      ]
     },
     "metadata": {},
     "output_type": "display_data"
    }
   ],
   "source": [
    "topmonth.plot()"
   ]
  },
  {
   "cell_type": "markdown",
   "metadata": {},
   "source": [
    "From here we can see that the 7th month which is July is the best selling month, but instead of focusing on it, what about September and October that shown to be two straight month is the lowest selling month which is concerning, we could offer some kind of limited time deals for this two months to increase our sales like for example labor day for september and halloween for october."
   ]
  },
  {
   "cell_type": "markdown",
   "metadata": {},
   "source": [
    "#### Description 4"
   ]
  },
  {
   "cell_type": "markdown",
   "metadata": {},
   "source": [
    "- Weakness<br>\n",
    "What is our worst selling pizza types and how can we do better sales for it?<br>"
   ]
  },
  {
   "cell_type": "markdown",
   "metadata": {},
   "source": [
    "We will determine the worst selling pizza based on the number of quantity for each pizza sold with group by the pizzas types."
   ]
  },
  {
   "cell_type": "code",
   "execution_count": 109,
   "metadata": {},
   "outputs": [
    {
     "data": {
      "text/plain": [
       "name\n",
       "The Brie Carre Pizza                           490\n",
       "The Mediterranean Pizza                        934\n",
       "The Calabrese Pizza                            937\n",
       "The Spinach Supreme Pizza                      950\n",
       "The Soppressata Pizza                          961\n",
       "The Spinach Pesto Pizza                        970\n",
       "The Chicken Pesto Pizza                        973\n",
       "The Italian Vegetables Pizza                   981\n",
       "The Chicken Alfredo Pizza                      987\n",
       "The Green Garden Pizza                         997\n",
       "The Pepperoni, Mushroom, and Peppers Pizza    1359\n",
       "The Five Cheese Pizza                         1409\n",
       "The Greek Pizza                               1420\n",
       "The Italian Capocollo Pizza                   1438\n",
       "The Pepper Salami Pizza                       1446\n",
       "The Spinach and Feta Pizza                    1446\n",
       "The Prosciutto and Arugula Pizza              1457\n",
       "The Napolitana Pizza                          1464\n",
       "The Mexicana Pizza                            1484\n",
       "The Vegetables + Vegetables Pizza             1526\n",
       "The Italian Supreme Pizza                     1884\n",
       "The Four Cheese Pizza                         1902\n",
       "The Big Meat Pizza                            1914\n",
       "The Southwest Chicken Pizza                   1917\n",
       "The Spicy Italian Pizza                       1924\n",
       "The Sicilian Pizza                            1938\n",
       "The California Chicken Pizza                  2370\n",
       "The Thai Chicken Pizza                        2371\n",
       "The Pepperoni Pizza                           2418\n",
       "The Hawaiian Pizza                            2422\n",
       "The Barbecue Chicken Pizza                    2432\n",
       "The Classic Deluxe Pizza                      2453\n",
       "Name: quantity, dtype: int64"
      ]
     },
     "execution_count": 109,
     "metadata": {},
     "output_type": "execute_result"
    }
   ],
   "source": [
    "bottom = newdf.groupby('name')['quantity'].sum()\n",
    "bottom = bottom.sort_values()\n",
    "bottom\n"
   ]
  },
  {
   "cell_type": "markdown",
   "metadata": {},
   "source": [
    "We can see the worst selling pizza more clearly with head and visualize it."
   ]
  },
  {
   "cell_type": "code",
   "execution_count": 110,
   "metadata": {},
   "outputs": [
    {
     "data": {
      "text/plain": [
       "<AxesSubplot: xlabel='name'>"
      ]
     },
     "execution_count": 110,
     "metadata": {},
     "output_type": "execute_result"
    },
    {
     "data": {
      "image/png": "[encoded data removed]",
      "text/plain": [
       "<Figure size 640x480 with 1 Axes>"
      ]
     },
     "metadata": {},
     "output_type": "display_data"
    }
   ],
   "source": [
    "bottom10 = bottom.head(10)\n",
    "bottom10.plot(kind='bar')"
   ]
  },
  {
   "cell_type": "markdown",
   "metadata": {},
   "source": [
    "We can clearly see that the worst selling pizza by far is the brie carre pizza which only have almost half of the next worst seller the mediterranean pizza. Maybe its best to drop the brie carre from the menu altogether, but for the rest of the worst seller like the mediterranean and calabrese pizza we could give some price cut for some limited time to increase the sale quantity, for example like doing a rotating monthly pick for the discounted pizza. "
   ]
  },
  {
   "cell_type": "markdown",
   "metadata": {},
   "source": [
    "#### Description 5"
   ]
  },
  {
   "cell_type": "markdown",
   "metadata": {},
   "source": [
    "- Weakness<br>\n",
    "Would it be better to scratch the worst selling pizza types from the menu?"
   ]
  },
  {
   "cell_type": "markdown",
   "metadata": {},
   "source": [
    "As we conclude from the previous problem, the brie carre pizza is by far the worst selling pizza and it might be better to remove it from the menu altogether. We could determine wether this will impact the total sales significantly or not by doing a hypothesis testing on it. We will use two sample independent with two tail test from the distribution with the brie carre pizza and a new distribution without the brie carre pizza. The hypothesis that we will use is this:\n"
   ]
  },
  {
   "cell_type": "markdown",
   "metadata": {},
   "source": [
    "H0 : μ_withbrie == μ_withoutbrie (with no significant differences)<br>\n",
    "H1 : μ_withbrie != μ_withoutbrie (with a significant differences)"
   ]
  },
  {
   "cell_type": "markdown",
   "metadata": {},
   "source": [
    "First, we are going to find the p-value and t-statistics of the two datasets."
   ]
  },
  {
   "cell_type": "code",
   "execution_count": 111,
   "metadata": {},
   "outputs": [
    {
     "name": "stdout",
     "output_type": "stream",
     "text": [
      "P-value: 0.3727015824847819\n",
      "t-statistics: 0.8934487086014258\n"
     ]
    }
   ],
   "source": [
    "wob = newdf[newdf.name != 'The Brie Carre Pizza']\n",
    "\n",
    "# Menghitung beban harian rata-rata\n",
    "daily_wb = newdf[['date','GMV']].groupby('date').sum().sample(100)\n",
    "daily_wob = wob[['date','GMV']].groupby('date').sum().sample(100)\n",
    "\n",
    "# Menghitung t-stat dan p-value\n",
    "t_stat, p_val = stats.ttest_ind(daily_wb,daily_wob)\n",
    "print('P-value:',p_val[0])\n",
    "print('t-statistics:',t_stat[0])"
   ]
  },
  {
   "cell_type": "markdown",
   "metadata": {},
   "source": [
    "Because the p-value is larger than the alpha (0.05), we failed to reject the null hypothesis (H0). But to be sure, we will do visualization of the hypothesis testing."
   ]
  },
  {
   "cell_type": "code",
   "execution_count": 112,
   "metadata": {},
   "outputs": [
    {
     "name": "stderr",
     "output_type": "stream",
     "text": [
      "C:\\Users\\USER\\AppData\\Local\\Temp\\ipykernel_8420\\1421102253.py:6: UserWarning: \n",
      "\n",
      "`distplot` is a deprecated function and will be removed in seaborn v0.14.0.\n",
      "\n",
      "Please adapt your code to use either `displot` (a figure-level function with\n",
      "similar flexibility) or `histplot` (an axes-level function for histograms).\n",
      "\n",
      "For a guide to updating your code to use the new functions, please see\n",
      "https://gist.github.com/mwaskom/de44147ed2974457ad6372750bbe5751\n",
      "\n",
      "  sns.distplot(wb_pop, label='With brie carre pizza Average Sales a Day',color='blue')\n",
      "C:\\Users\\USER\\AppData\\Local\\Temp\\ipykernel_8420\\1421102253.py:7: UserWarning: \n",
      "\n",
      "`distplot` is a deprecated function and will be removed in seaborn v0.14.0.\n",
      "\n",
      "Please adapt your code to use either `displot` (a figure-level function with\n",
      "similar flexibility) or `histplot` (an axes-level function for histograms).\n",
      "\n",
      "For a guide to updating your code to use the new functions, please see\n",
      "https://gist.github.com/mwaskom/de44147ed2974457ad6372750bbe5751\n",
      "\n",
      "  sns.distplot(wob_pop, label='Without brie carre pizza Average Sales a Day',color='red')\n"
     ]
    },
    {
     "data": {
      "text/plain": [
       "<matplotlib.legend.Legend at 0x23d2b36ba90>"
      ]
     },
     "execution_count": 112,
     "metadata": {},
     "output_type": "execute_result"
    },
    {
     "data": {
      "image/png": "[encoded data removed]",
      "text/plain": [
       "<Figure size 1600x500 with 1 Axes>"
      ]
     },
     "metadata": {},
     "output_type": "display_data"
    }
   ],
   "source": [
    "wb_pop = np.random.normal(daily_wb.GMV.mean(),daily_wb.GMV.std(),100)\n",
    "wob_pop = np.random.normal(daily_wob.GMV.mean(),daily_wob.GMV.std(),100)\n",
    "\n",
    "ci = stats.norm.interval(0.90, daily_wb.GMV.mean(), daily_wb.GMV.std())\n",
    "plt.figure(figsize=(16,5))\n",
    "sns.distplot(wb_pop, label='With brie carre pizza Average Sales a Day',color='blue')\n",
    "sns.distplot(wob_pop, label='Without brie carre pizza Average Sales a Day',color='red')\n",
    "\n",
    "plt.axvline(daily_wb.GMV.mean(), color='blue', linewidth=2, label='With brie carre pizza mean')\n",
    "plt.axvline(daily_wob.GMV.mean(), color='red',  linewidth=2, label='Without brie carre pizza mean')\n",
    "\n",
    "plt.axvline(ci[1], color='green', linestyle='dashed', linewidth=2, label='confidence threshold of 95%')\n",
    "plt.axvline(ci[0], color='green', linestyle='dashed', linewidth=2)\n",
    "\n",
    "plt.axvline(wb_pop.mean()+t_stat[0]*wb_pop.std(), color='black', linestyle='dashed', linewidth=2, label = 'Alternative Hypothesis')\n",
    "plt.axvline(wb_pop.mean()-t_stat[0]*wb_pop.std(), color='black', linestyle='dashed', linewidth=2)\n",
    "\n",
    "plt.legend()"
   ]
  },
  {
   "cell_type": "markdown",
   "metadata": {},
   "source": [
    "We can see that the alternative hypothesis line (h1) is in the confidence interval and therefore we failed to reject the null hypothesis and could conclude that removing the brie carre pizza from the menu won't effect our total sales significantly."
   ]
  },
  {
   "cell_type": "markdown",
   "metadata": {},
   "source": [
    "#### Description 6"
   ]
  },
  {
   "cell_type": "markdown",
   "metadata": {},
   "source": [
    "- Opportunity<br>\n",
    "If we want to create a new variant of pizza, what kind of pizza would be the best option?"
   ]
  },
  {
   "cell_type": "markdown",
   "metadata": {},
   "source": [
    "We will determine the new variant by going for the pizza category with most sales."
   ]
  },
  {
   "cell_type": "code",
   "execution_count": 113,
   "metadata": {},
   "outputs": [
    {
     "data": {
      "text/plain": [
       "category\n",
       "Chicken    11050\n",
       "Classic    14888\n",
       "Supreme    11987\n",
       "Veggie     11649\n",
       "Name: quantity, dtype: int64"
      ]
     },
     "execution_count": 113,
     "metadata": {},
     "output_type": "execute_result"
    }
   ],
   "source": [
    "a = newdf.groupby('category')['quantity'].sum()\n",
    "a"
   ]
  },
  {
   "cell_type": "markdown",
   "metadata": {},
   "source": [
    "We can see that the best selling pizza category is classic lets see it more clearly by visualizing it."
   ]
  },
  {
   "cell_type": "code",
   "execution_count": 114,
   "metadata": {},
   "outputs": [
    {
     "data": {
      "image/png": "[encoded data removed]",
      "text/plain": [
       "<Figure size 480x480 with 1 Axes>"
      ]
     },
     "metadata": {},
     "output_type": "display_data"
    }
   ],
   "source": [
    "# make the pie circular by setting the aspect ratio to 1\n",
    "plt.figure(figsize=plt.figaspect(1))\n",
    "\n",
    "def make_autopct(values):\n",
    "    def my_autopct(pct):\n",
    "        total = sum(values)\n",
    "        val = int(round(pct*total/100.0))\n",
    "        return '{p:.2f}%  ({v:d})'.format(p=pct,v=val)\n",
    "    return my_autopct\n",
    "\n",
    "plt.pie(a, labels=a.index, autopct=make_autopct(a))\n",
    "plt.show()"
   ]
  },
  {
   "cell_type": "markdown",
   "metadata": {},
   "source": [
    "It seems that classic pizza is the category with most sales, but is this really because our customer prefer this category or just because they have more variant than the other categories? To find out we need to find out the number of sales per type of each category, we can do that by doing a two level group by, with category and name."
   ]
  },
  {
   "cell_type": "code",
   "execution_count": 115,
   "metadata": {},
   "outputs": [
    {
     "data": {
      "text/html": [
       "<div>\n",
       "<style scoped>\n",
       "    .dataframe tbody tr th:only-of-type {\n",
       "        vertical-align: middle;\n",
       "    }\n",
       "\n",
       "    .dataframe tbody tr th {\n",
       "        vertical-align: top;\n",
       "    }\n",
       "\n",
       "    .dataframe thead th {\n",
       "        text-align: right;\n",
       "    }\n",
       "</style>\n",
       "<table border=\"1\" class=\"dataframe\">\n",
       "  <thead>\n",
       "    <tr style=\"text-align: right;\">\n",
       "      <th></th>\n",
       "      <th></th>\n",
       "      <th>order_details_id</th>\n",
       "      <th>quantity</th>\n",
       "      <th>price</th>\n",
       "      <th>GMV</th>\n",
       "    </tr>\n",
       "    <tr>\n",
       "      <th>category</th>\n",
       "      <th>name</th>\n",
       "      <th></th>\n",
       "      <th></th>\n",
       "      <th></th>\n",
       "      <th></th>\n",
       "    </tr>\n",
       "  </thead>\n",
       "  <tbody>\n",
       "    <tr>\n",
       "      <th rowspan=\"6\" valign=\"top\">Chicken</th>\n",
       "      <th>The Barbecue Chicken Pizza</th>\n",
       "      <td>56500574</td>\n",
       "      <td>2432</td>\n",
       "      <td>41683.00</td>\n",
       "      <td>42768.00</td>\n",
       "    </tr>\n",
       "    <tr>\n",
       "      <th>The California Chicken Pizza</th>\n",
       "      <td>56230910</td>\n",
       "      <td>2370</td>\n",
       "      <td>40166.50</td>\n",
       "      <td>41409.50</td>\n",
       "    </tr>\n",
       "    <tr>\n",
       "      <th>The Chicken Alfredo Pizza</th>\n",
       "      <td>23890746</td>\n",
       "      <td>987</td>\n",
       "      <td>16779.00</td>\n",
       "      <td>16900.25</td>\n",
       "    </tr>\n",
       "    <tr>\n",
       "      <th>The Chicken Pesto Pizza</th>\n",
       "      <td>23570840</td>\n",
       "      <td>973</td>\n",
       "      <td>16484.75</td>\n",
       "      <td>16701.75</td>\n",
       "    </tr>\n",
       "    <tr>\n",
       "      <th>The Southwest Chicken Pizza</th>\n",
       "      <td>46239737</td>\n",
       "      <td>1917</td>\n",
       "      <td>34081.75</td>\n",
       "      <td>34705.75</td>\n",
       "    </tr>\n",
       "    <tr>\n",
       "      <th>The Thai Chicken Pizza</th>\n",
       "      <td>57239960</td>\n",
       "      <td>2371</td>\n",
       "      <td>42332.25</td>\n",
       "      <td>43434.25</td>\n",
       "    </tr>\n",
       "    <tr>\n",
       "      <th rowspan=\"8\" valign=\"top\">Classic</th>\n",
       "      <th>The Big Meat Pizza</th>\n",
       "      <td>44373219</td>\n",
       "      <td>1914</td>\n",
       "      <td>21732.00</td>\n",
       "      <td>22968.00</td>\n",
       "    </tr>\n",
       "    <tr>\n",
       "      <th>The Classic Deluxe Pizza</th>\n",
       "      <td>59972116</td>\n",
       "      <td>2453</td>\n",
       "      <td>37631.50</td>\n",
       "      <td>38180.50</td>\n",
       "    </tr>\n",
       "    <tr>\n",
       "      <th>The Greek Pizza</th>\n",
       "      <td>34010123</td>\n",
       "      <td>1420</td>\n",
       "      <td>28170.10</td>\n",
       "      <td>28454.10</td>\n",
       "    </tr>\n",
       "    <tr>\n",
       "      <th>The Hawaiian Pizza</th>\n",
       "      <td>58434322</td>\n",
       "      <td>2422</td>\n",
       "      <td>31561.75</td>\n",
       "      <td>32273.25</td>\n",
       "    </tr>\n",
       "    <tr>\n",
       "      <th>The Italian Capocollo Pizza</th>\n",
       "      <td>33999110</td>\n",
       "      <td>1438</td>\n",
       "      <td>24641.50</td>\n",
       "      <td>25094.00</td>\n",
       "    </tr>\n",
       "    <tr>\n",
       "      <th>The Napolitana Pizza</th>\n",
       "      <td>35312418</td>\n",
       "      <td>1464</td>\n",
       "      <td>23850.50</td>\n",
       "      <td>24087.00</td>\n",
       "    </tr>\n",
       "    <tr>\n",
       "      <th>The Pepperoni Pizza</th>\n",
       "      <td>56914939</td>\n",
       "      <td>2418</td>\n",
       "      <td>29538.25</td>\n",
       "      <td>30161.75</td>\n",
       "    </tr>\n",
       "    <tr>\n",
       "      <th>The Pepperoni, Mushroom, and Peppers Pizza</th>\n",
       "      <td>32525973</td>\n",
       "      <td>1359</td>\n",
       "      <td>18607.00</td>\n",
       "      <td>18834.50</td>\n",
       "    </tr>\n",
       "    <tr>\n",
       "      <th rowspan=\"9\" valign=\"top\">Supreme</th>\n",
       "      <th>The Brie Carre Pizza</th>\n",
       "      <td>11717887</td>\n",
       "      <td>490</td>\n",
       "      <td>11352.00</td>\n",
       "      <td>11588.50</td>\n",
       "    </tr>\n",
       "    <tr>\n",
       "      <th>The Calabrese Pizza</th>\n",
       "      <td>22835268</td>\n",
       "      <td>937</td>\n",
       "      <td>15763.75</td>\n",
       "      <td>15934.25</td>\n",
       "    </tr>\n",
       "    <tr>\n",
       "      <th>The Italian Supreme Pizza</th>\n",
       "      <td>44591391</td>\n",
       "      <td>1884</td>\n",
       "      <td>32856.25</td>\n",
       "      <td>33476.75</td>\n",
       "    </tr>\n",
       "    <tr>\n",
       "      <th>The Pepper Salami Pizza</th>\n",
       "      <td>34843304</td>\n",
       "      <td>1446</td>\n",
       "      <td>25081.00</td>\n",
       "      <td>25529.00</td>\n",
       "    </tr>\n",
       "    <tr>\n",
       "      <th>The Prosciutto and Arugula Pizza</th>\n",
       "      <td>34615126</td>\n",
       "      <td>1457</td>\n",
       "      <td>23679.75</td>\n",
       "      <td>24193.25</td>\n",
       "    </tr>\n",
       "    <tr>\n",
       "      <th>The Sicilian Pizza</th>\n",
       "      <td>46174056</td>\n",
       "      <td>1938</td>\n",
       "      <td>30123.75</td>\n",
       "      <td>30940.50</td>\n",
       "    </tr>\n",
       "    <tr>\n",
       "      <th>The Soppressata Pizza</th>\n",
       "      <td>23042038</td>\n",
       "      <td>961</td>\n",
       "      <td>16342.75</td>\n",
       "      <td>16425.75</td>\n",
       "    </tr>\n",
       "    <tr>\n",
       "      <th>The Spicy Italian Pizza</th>\n",
       "      <td>46117946</td>\n",
       "      <td>1924</td>\n",
       "      <td>34163.50</td>\n",
       "      <td>34831.25</td>\n",
       "    </tr>\n",
       "    <tr>\n",
       "      <th>The Spinach Supreme Pizza</th>\n",
       "      <td>22475889</td>\n",
       "      <td>950</td>\n",
       "      <td>15124.00</td>\n",
       "      <td>15277.75</td>\n",
       "    </tr>\n",
       "    <tr>\n",
       "      <th rowspan=\"9\" valign=\"top\">Veggie</th>\n",
       "      <th>The Five Cheese Pizza</th>\n",
       "      <td>31911486</td>\n",
       "      <td>1409</td>\n",
       "      <td>25141.50</td>\n",
       "      <td>26066.50</td>\n",
       "    </tr>\n",
       "    <tr>\n",
       "      <th>The Four Cheese Pizza</th>\n",
       "      <td>44805536</td>\n",
       "      <td>1902</td>\n",
       "      <td>31361.10</td>\n",
       "      <td>32265.70</td>\n",
       "    </tr>\n",
       "    <tr>\n",
       "      <th>The Green Garden Pizza</th>\n",
       "      <td>23532083</td>\n",
       "      <td>997</td>\n",
       "      <td>13819.50</td>\n",
       "      <td>13955.75</td>\n",
       "    </tr>\n",
       "    <tr>\n",
       "      <th>The Italian Vegetables Pizza</th>\n",
       "      <td>23022753</td>\n",
       "      <td>981</td>\n",
       "      <td>15930.75</td>\n",
       "      <td>16019.25</td>\n",
       "    </tr>\n",
       "    <tr>\n",
       "      <th>The Mediterranean Pizza</th>\n",
       "      <td>23165113</td>\n",
       "      <td>934</td>\n",
       "      <td>15163.00</td>\n",
       "      <td>15360.50</td>\n",
       "    </tr>\n",
       "    <tr>\n",
       "      <th>The Mexicana Pizza</th>\n",
       "      <td>35943548</td>\n",
       "      <td>1484</td>\n",
       "      <td>26243.00</td>\n",
       "      <td>26780.75</td>\n",
       "    </tr>\n",
       "    <tr>\n",
       "      <th>The Spinach Pesto Pizza</th>\n",
       "      <td>23624208</td>\n",
       "      <td>970</td>\n",
       "      <td>15388.25</td>\n",
       "      <td>15596.00</td>\n",
       "    </tr>\n",
       "    <tr>\n",
       "      <th>The Spinach and Feta Pizza</th>\n",
       "      <td>34382522</td>\n",
       "      <td>1446</td>\n",
       "      <td>23021.25</td>\n",
       "      <td>23271.25</td>\n",
       "    </tr>\n",
       "    <tr>\n",
       "      <th>The Vegetables + Vegetables Pizza</th>\n",
       "      <td>35961369</td>\n",
       "      <td>1526</td>\n",
       "      <td>24129.75</td>\n",
       "      <td>24374.75</td>\n",
       "    </tr>\n",
       "  </tbody>\n",
       "</table>\n",
       "</div>"
      ],
      "text/plain": [
       "                                                     order_details_id  \\\n",
       "category name                                                           \n",
       "Chicken  The Barbecue Chicken Pizza                          56500574   \n",
       "         The California Chicken Pizza                        56230910   \n",
       "         The Chicken Alfredo Pizza                           23890746   \n",
       "         The Chicken Pesto Pizza                             23570840   \n",
       "         The Southwest Chicken Pizza                         46239737   \n",
       "         The Thai Chicken Pizza                              57239960   \n",
       "Classic  The Big Meat Pizza                                  44373219   \n",
       "         The Classic Deluxe Pizza                            59972116   \n",
       "         The Greek Pizza                                     34010123   \n",
       "         The Hawaiian Pizza                                  58434322   \n",
       "         The Italian Capocollo Pizza                         33999110   \n",
       "         The Napolitana Pizza                                35312418   \n",
       "         The Pepperoni Pizza                                 56914939   \n",
       "         The Pepperoni, Mushroom, and Peppers Pizza          32525973   \n",
       "Supreme  The Brie Carre Pizza                                11717887   \n",
       "         The Calabrese Pizza                                 22835268   \n",
       "         The Italian Supreme Pizza                           44591391   \n",
       "         The Pepper Salami Pizza                             34843304   \n",
       "         The Prosciutto and Arugula Pizza                    34615126   \n",
       "         The Sicilian Pizza                                  46174056   \n",
       "         The Soppressata Pizza                               23042038   \n",
       "         The Spicy Italian Pizza                             46117946   \n",
       "         The Spinach Supreme Pizza                           22475889   \n",
       "Veggie   The Five Cheese Pizza                               31911486   \n",
       "         The Four Cheese Pizza                               44805536   \n",
       "         The Green Garden Pizza                              23532083   \n",
       "         The Italian Vegetables Pizza                        23022753   \n",
       "         The Mediterranean Pizza                             23165113   \n",
       "         The Mexicana Pizza                                  35943548   \n",
       "         The Spinach Pesto Pizza                             23624208   \n",
       "         The Spinach and Feta Pizza                          34382522   \n",
       "         The Vegetables + Vegetables Pizza                   35961369   \n",
       "\n",
       "                                                     quantity     price  \\\n",
       "category name                                                             \n",
       "Chicken  The Barbecue Chicken Pizza                      2432  41683.00   \n",
       "         The California Chicken Pizza                    2370  40166.50   \n",
       "         The Chicken Alfredo Pizza                        987  16779.00   \n",
       "         The Chicken Pesto Pizza                          973  16484.75   \n",
       "         The Southwest Chicken Pizza                     1917  34081.75   \n",
       "         The Thai Chicken Pizza                          2371  42332.25   \n",
       "Classic  The Big Meat Pizza                              1914  21732.00   \n",
       "         The Classic Deluxe Pizza                        2453  37631.50   \n",
       "         The Greek Pizza                                 1420  28170.10   \n",
       "         The Hawaiian Pizza                              2422  31561.75   \n",
       "         The Italian Capocollo Pizza                     1438  24641.50   \n",
       "         The Napolitana Pizza                            1464  23850.50   \n",
       "         The Pepperoni Pizza                             2418  29538.25   \n",
       "         The Pepperoni, Mushroom, and Peppers Pizza      1359  18607.00   \n",
       "Supreme  The Brie Carre Pizza                             490  11352.00   \n",
       "         The Calabrese Pizza                              937  15763.75   \n",
       "         The Italian Supreme Pizza                       1884  32856.25   \n",
       "         The Pepper Salami Pizza                         1446  25081.00   \n",
       "         The Prosciutto and Arugula Pizza                1457  23679.75   \n",
       "         The Sicilian Pizza                              1938  30123.75   \n",
       "         The Soppressata Pizza                            961  16342.75   \n",
       "         The Spicy Italian Pizza                         1924  34163.50   \n",
       "         The Spinach Supreme Pizza                        950  15124.00   \n",
       "Veggie   The Five Cheese Pizza                           1409  25141.50   \n",
       "         The Four Cheese Pizza                           1902  31361.10   \n",
       "         The Green Garden Pizza                           997  13819.50   \n",
       "         The Italian Vegetables Pizza                     981  15930.75   \n",
       "         The Mediterranean Pizza                          934  15163.00   \n",
       "         The Mexicana Pizza                              1484  26243.00   \n",
       "         The Spinach Pesto Pizza                          970  15388.25   \n",
       "         The Spinach and Feta Pizza                      1446  23021.25   \n",
       "         The Vegetables + Vegetables Pizza               1526  24129.75   \n",
       "\n",
       "                                                          GMV  \n",
       "category name                                                  \n",
       "Chicken  The Barbecue Chicken Pizza                  42768.00  \n",
       "         The California Chicken Pizza                41409.50  \n",
       "         The Chicken Alfredo Pizza                   16900.25  \n",
       "         The Chicken Pesto Pizza                     16701.75  \n",
       "         The Southwest Chicken Pizza                 34705.75  \n",
       "         The Thai Chicken Pizza                      43434.25  \n",
       "Classic  The Big Meat Pizza                          22968.00  \n",
       "         The Classic Deluxe Pizza                    38180.50  \n",
       "         The Greek Pizza                             28454.10  \n",
       "         The Hawaiian Pizza                          32273.25  \n",
       "         The Italian Capocollo Pizza                 25094.00  \n",
       "         The Napolitana Pizza                        24087.00  \n",
       "         The Pepperoni Pizza                         30161.75  \n",
       "         The Pepperoni, Mushroom, and Peppers Pizza  18834.50  \n",
       "Supreme  The Brie Carre Pizza                        11588.50  \n",
       "         The Calabrese Pizza                         15934.25  \n",
       "         The Italian Supreme Pizza                   33476.75  \n",
       "         The Pepper Salami Pizza                     25529.00  \n",
       "         The Prosciutto and Arugula Pizza            24193.25  \n",
       "         The Sicilian Pizza                          30940.50  \n",
       "         The Soppressata Pizza                       16425.75  \n",
       "         The Spicy Italian Pizza                     34831.25  \n",
       "         The Spinach Supreme Pizza                   15277.75  \n",
       "Veggie   The Five Cheese Pizza                       26066.50  \n",
       "         The Four Cheese Pizza                       32265.70  \n",
       "         The Green Garden Pizza                      13955.75  \n",
       "         The Italian Vegetables Pizza                16019.25  \n",
       "         The Mediterranean Pizza                     15360.50  \n",
       "         The Mexicana Pizza                          26780.75  \n",
       "         The Spinach Pesto Pizza                     15596.00  \n",
       "         The Spinach and Feta Pizza                  23271.25  \n",
       "         The Vegetables + Vegetables Pizza           24374.75  "
      ]
     },
     "execution_count": 115,
     "metadata": {},
     "output_type": "execute_result"
    }
   ],
   "source": [
    "newvariant = newdf.groupby(['category', 'name']).sum('quantity')\n",
    "newvariant"
   ]
  },
  {
   "cell_type": "markdown",
   "metadata": {},
   "source": [
    "And then, we will group this to one level group and count the average of the quantity by category."
   ]
  },
  {
   "cell_type": "code",
   "execution_count": 116,
   "metadata": {},
   "outputs": [
    {
     "data": {
      "text/plain": [
       "category\n",
       "Chicken    1841.667\n",
       "Classic    1861.000\n",
       "Supreme    1331.889\n",
       "Veggie     1294.333\n",
       "Name: quantity, dtype: float64"
      ]
     },
     "execution_count": 116,
     "metadata": {},
     "output_type": "execute_result"
    }
   ],
   "source": [
    "a = newvariant.groupby('category')['quantity'].mean()\n",
    "a"
   ]
  },
  {
   "cell_type": "markdown",
   "metadata": {},
   "source": [
    "With this we now can be certain that classic pizza is the category with the most sales not because they have more types, so now we will see what types that we already have in this category."
   ]
  },
  {
   "cell_type": "code",
   "execution_count": 117,
   "metadata": {},
   "outputs": [
    {
     "data": {
      "text/plain": [
       "name\n",
       "The Classic Deluxe Pizza                      2453\n",
       "The Hawaiian Pizza                            2422\n",
       "The Pepperoni Pizza                           2418\n",
       "The Big Meat Pizza                            1914\n",
       "The Napolitana Pizza                          1464\n",
       "The Italian Capocollo Pizza                   1438\n",
       "The Greek Pizza                               1420\n",
       "The Pepperoni, Mushroom, and Peppers Pizza    1359\n",
       "Name: quantity, dtype: int64"
      ]
     },
     "execution_count": 117,
     "metadata": {},
     "output_type": "execute_result"
    }
   ],
   "source": [
    "a = newdf[newdf['category'] == 'Classic']\n",
    "a = a.groupby('name')['quantity'].sum()\n",
    "a.sort_values(ascending=False)"
   ]
  },
  {
   "cell_type": "markdown",
   "metadata": {},
   "source": [
    "There are already 8 different types of classic pizza, but we could add some other classic variants like margherita or marinara to attract wider range of customers."
   ]
  },
  {
   "cell_type": "markdown",
   "metadata": {},
   "source": [
    "#### Description 7"
   ]
  },
  {
   "cell_type": "markdown",
   "metadata": {},
   "source": [
    "- Threat<br>\n",
    "How well is our daily sales compared against our competitors?"
   ]
  },
  {
   "cell_type": "markdown",
   "metadata": {},
   "source": [
    "To answer this problem, we need to determine the daily GMV and find the average by using one of the central tendency value which is mean. First we will group the dataset by day and count the sum of the GMV for each day."
   ]
  },
  {
   "cell_type": "code",
   "execution_count": 118,
   "metadata": {},
   "outputs": [
    {
     "data": {
      "text/html": [
       "<div>\n",
       "<style scoped>\n",
       "    .dataframe tbody tr th:only-of-type {\n",
       "        vertical-align: middle;\n",
       "    }\n",
       "\n",
       "    .dataframe tbody tr th {\n",
       "        vertical-align: top;\n",
       "    }\n",
       "\n",
       "    .dataframe thead th {\n",
       "        text-align: right;\n",
       "    }\n",
       "</style>\n",
       "<table border=\"1\" class=\"dataframe\">\n",
       "  <thead>\n",
       "    <tr style=\"text-align: right;\">\n",
       "      <th></th>\n",
       "      <th>GMV</th>\n",
       "    </tr>\n",
       "    <tr>\n",
       "      <th>date</th>\n",
       "      <th></th>\n",
       "    </tr>\n",
       "  </thead>\n",
       "  <tbody>\n",
       "    <tr>\n",
       "      <th>2015-01-01</th>\n",
       "      <td>2713.85</td>\n",
       "    </tr>\n",
       "    <tr>\n",
       "      <th>2015-01-02</th>\n",
       "      <td>2731.90</td>\n",
       "    </tr>\n",
       "    <tr>\n",
       "      <th>2015-01-03</th>\n",
       "      <td>2662.40</td>\n",
       "    </tr>\n",
       "    <tr>\n",
       "      <th>2015-01-04</th>\n",
       "      <td>1755.45</td>\n",
       "    </tr>\n",
       "    <tr>\n",
       "      <th>2015-01-05</th>\n",
       "      <td>2065.95</td>\n",
       "    </tr>\n",
       "    <tr>\n",
       "      <th>...</th>\n",
       "      <td>...</td>\n",
       "    </tr>\n",
       "    <tr>\n",
       "      <th>2015-12-27</th>\n",
       "      <td>1419.00</td>\n",
       "    </tr>\n",
       "    <tr>\n",
       "      <th>2015-12-28</th>\n",
       "      <td>1637.20</td>\n",
       "    </tr>\n",
       "    <tr>\n",
       "      <th>2015-12-29</th>\n",
       "      <td>1353.25</td>\n",
       "    </tr>\n",
       "    <tr>\n",
       "      <th>2015-12-30</th>\n",
       "      <td>1337.80</td>\n",
       "    </tr>\n",
       "    <tr>\n",
       "      <th>2015-12-31</th>\n",
       "      <td>2916.00</td>\n",
       "    </tr>\n",
       "  </tbody>\n",
       "</table>\n",
       "<p>358 rows × 1 columns</p>\n",
       "</div>"
      ],
      "text/plain": [
       "                GMV\n",
       "date               \n",
       "2015-01-01  2713.85\n",
       "2015-01-02  2731.90\n",
       "2015-01-03  2662.40\n",
       "2015-01-04  1755.45\n",
       "2015-01-05  2065.95\n",
       "...             ...\n",
       "2015-12-27  1419.00\n",
       "2015-12-28  1637.20\n",
       "2015-12-29  1353.25\n",
       "2015-12-30  1337.80\n",
       "2015-12-31  2916.00\n",
       "\n",
       "[358 rows x 1 columns]"
      ]
     },
     "execution_count": 118,
     "metadata": {},
     "output_type": "execute_result"
    }
   ],
   "source": [
    "daily = newdf.groupby('date')['GMV'].sum()\n",
    "daily = daily.to_frame()\n",
    "daily"
   ]
  },
  {
   "cell_type": "markdown",
   "metadata": {},
   "source": [
    "Now we can count the average of our daily GMV by using .mean."
   ]
  },
  {
   "cell_type": "code",
   "execution_count": 119,
   "metadata": {},
   "outputs": [
    {
     "data": {
      "text/plain": [
       "GMV    2284.525\n",
       "dtype: float64"
      ]
     },
     "execution_count": 119,
     "metadata": {},
     "output_type": "execute_result"
    }
   ],
   "source": [
    "daily.mean()"
   ]
  },
  {
   "cell_type": "markdown",
   "metadata": {},
   "source": [
    "We got our average daily GMV as 2284,525 USD, which is more than the reported daily GMV of our closest competitor that have average GMV around 1900 USD."
   ]
  },
  {
   "cell_type": "markdown",
   "metadata": {},
   "source": [
    "## Conclusions, Assumptions, Overall Analysis\n",
    "\n"
   ]
  },
  {
   "cell_type": "markdown",
   "metadata": {},
   "source": [
    "### Points from problem  descriptions"
   ]
  },
  {
   "cell_type": "markdown",
   "metadata": {},
   "source": [
    "1. General<br>\n",
    "- How does our monthly revenue perform this year? And what will next quarter looks like in the current projection?<br>\n",
    "This year our monthly revenues are in a downward trend and by forecasting it looks like the next quarter will continue this trend, so some changes needs to be done to change the course of the trend.\n",
    "\n",
    "2. Strength<br>\n",
    "- What is our best selling pizza types and how can we maximize the profit from it?<br>\n",
    "The classic deluxe pizza is the best selling pizza this year and we could maximize profit by improving the sale price by a bit.\n",
    "\n",
    "- What is our best selling month and how can we maximize the profit from it?<br>\n",
    "July is our best selling month, but the standout month from the analysis is actually September and October because it is a two straight worst selling month, some action that can improve it may be done by offering some limited time deals for these months.\n",
    "\n",
    "3. Weakness<br>\n",
    "- What is our worst selling pizza types and how can we do better sales for it?<br>\n",
    "The worst selling pizza is by far the brie carre pizza and it might be best to drop it from the menu, for the other worst selling pizza like the mediterranean and calabrese pizza could be given some price cut for a limited time to increase the sale quantity.\n",
    "\n",
    "- Would it be better to scratch the worst selling pizza types from the menu?<br>\n",
    "From our hypothesis testing there seems to be no significant difference of our total sales if we drop the brie carre pizza so yes it might be better to drop it altogether.\n",
    "\n",
    "4. Opportunity<br>\n",
    "- If we want to create a new variant of pizza, what kind of pizza would be the best option?<br>\n",
    "The best selling pizza category is the classic pizza so we may want to add some new type for this category such as margherita or marinara pizza.\n",
    "\n",
    "5. Threat<br>\n",
    "- How well is our daily sales compared against our competitors? <br>\n",
    "Our daily GMV average is better than our competitor, but the gap is getting closer."
   ]
  },
  {
   "cell_type": "markdown",
   "metadata": {},
   "source": [
    "### Overall Analysis"
   ]
  },
  {
   "cell_type": "markdown",
   "metadata": {},
   "source": [
    "After all our analysis on the specified points above, we can conclude that to raise our revenue for next quarter by 3% will be a tough but possible task, it could be eased by implementing some if not all of the methods that was mention before, such as improving sale price for the favourite pizza, adding some limited time discount, adding a new variant of pizza or dropping the worst selling pizza from our menu."
   ]
  }
 ],
 "metadata": {
  "kernelspec": {
   "display_name": "Python 3.10.7 64-bit (microsoft store)",
   "language": "python",
   "name": "python3"
  },
  "language_info": {
   "codemirror_mode": {
    "name": "ipython",
    "version": 3
   },
   "file_extension": ".py",
   "mimetype": "text/x-python",
   "name": "python",
   "nbconvert_exporter": "python",
   "pygments_lexer": "ipython3",
   "version": "3.10.8"
  },
  "orig_nbformat": 4,
  "vscode": {
   "interpreter": {
    "hash": "66eba28a75a64fbe1a9b9c30d27f7c856726c51cbbef86297708eae4ce175db0"
   }
  }
 },
 "nbformat": 4,
 "nbformat_minor": 2
}
